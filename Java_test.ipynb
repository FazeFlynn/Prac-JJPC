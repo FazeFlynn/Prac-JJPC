{
 "cells": [
  {
   "cell_type": "markdown",
   "metadata": {},
   "source": [
    "#### `Splitting String and Storing it into an array`"
   ]
  },
  {
   "cell_type": "code",
   "execution_count": 173,
   "metadata": {},
   "outputs": [
    {
     "name": "stdout",
     "output_type": "stream",
     "text": [
      "true\n"
     ]
    },
    {
     "data": {
      "text/plain": [
       "[hello, this, is, java, and, idk]"
      ]
     },
     "execution_count": 173,
     "metadata": {},
     "output_type": "execute_result"
    }
   ],
   "source": [
    "String mystr = \"hello this is java and idk\";\n",
    "String[] arr = mystr.split(\" \");\n",
    "System.out.println(arr instanceof Object);\n",
    "Arrays.toString(arr)"
   ]
  },
  {
   "cell_type": "markdown",
   "metadata": {},
   "source": [
    "#### `Map filter Reduce in Java`"
   ]
  },
  {
   "cell_type": "code",
   "execution_count": 174,
   "metadata": {},
   "outputs": [
    {
     "name": "stdout",
     "output_type": "stream",
     "text": [
      "[1, 4, 9, 16]\n"
     ]
    }
   ],
   "source": [
    "Integer[] numbers = {1, 2, 3, 4};\n",
    "Integer[] squares = Arrays.stream(numbers)\n",
    "                          .map(x -> x * x)\n",
    "                          .toArray(Integer[]::new);\n",
    "System.out.println(Arrays.toString(squares));"
   ]
  },
  {
   "cell_type": "code",
   "execution_count": 175,
   "metadata": {},
   "outputs": [
    {
     "data": {
      "text/plain": [
       "[1, 4, 9, 16]"
      ]
     },
     "execution_count": 175,
     "metadata": {},
     "output_type": "execute_result"
    }
   ],
   "source": [
    "// Using int\n",
    "int[] numbers = {1, 2, 3, 4}; \n",
    "int[] squares = Arrays.stream(numbers)\n",
    "                      .map(x -> x * x)\n",
    "                      .toArray(); \n",
    "Arrays.toString(squares);"
   ]
  },
  {
   "cell_type": "code",
   "execution_count": 176,
   "metadata": {},
   "outputs": [
    {
     "name": "stdout",
     "output_type": "stream",
     "text": [
      "[2, 4]\n"
     ]
    }
   ],
   "source": [
    "import java.util.List;\n",
    "import java.util.Arrays;\n",
    "import java.util.stream.Collectors;\n",
    "\n",
    "List<Integer> numbers = Arrays.asList(1, 2, 3, 4, 5);\n",
    "List<Integer> evens = numbers.stream()\n",
    "                                    .filter(x -> x % 2 == 0)\n",
    "                                    .collect(Collectors.toList());\n",
    "System.out.println(evens);"
   ]
  },
  {
   "cell_type": "code",
   "execution_count": 268,
   "metadata": {},
   "outputs": [
    {
     "name": "stdout",
     "output_type": "stream",
     "text": [
      "10\n"
     ]
    }
   ],
   "source": [
    "Integer[] numbers = {1, 2, 3, 4};\n",
    "int sum = Arrays.stream(numbers).reduce(0, (acc, x) -> acc + x);\n",
    "System.out.println(sum); // Output: 10"
   ]
  },
  {
   "cell_type": "markdown",
   "metadata": {},
   "source": [
    "`Without Using Lambda Expressions`"
   ]
  },
  {
   "cell_type": "code",
   "execution_count": 270,
   "metadata": {},
   "outputs": [
    {
     "data": {
      "text/plain": [
       "10"
      ]
     },
     "execution_count": 270,
     "metadata": {},
     "output_type": "execute_result"
    }
   ],
   "source": [
    "import java.util.Arrays;\n",
    "public class ReduceExample {\n",
    "\n",
    "    public static int sum(int acc, int x) {\n",
    "        return acc + x;\n",
    "    }\n",
    "\n",
    "    public static void main(String[] args) {\n",
    "\n",
    "        int[] numbers = {1, 2, 3, 4};\n",
    "        int sum = Arrays.stream(numbers).reduce(0, ReduceExample::sum);        \n",
    "        // System.out.println(\"Sum: \" + sum);\n",
    "    }    \n",
    "}\n",
    "sum;"
   ]
  },
  {
   "cell_type": "code",
   "execution_count": 178,
   "metadata": {},
   "outputs": [
    {
     "name": "stdout",
     "output_type": "stream",
     "text": [
      "10\n"
     ]
    }
   ],
   "source": [
    "// Using int\n",
    "int[] numbers = {1, 2, 3, 4};\n",
    "int sum = Arrays.stream(numbers).reduce(0, (acc, x) -> acc + x);\n",
    "System.out.println(sum); // Output: 10"
   ]
  },
  {
   "cell_type": "markdown",
   "metadata": {},
   "source": [
    "### `Other Operations`"
   ]
  },
  {
   "cell_type": "code",
   "execution_count": 179,
   "metadata": {},
   "outputs": [
    {
     "name": "stdout",
     "output_type": "stream",
     "text": [
      "Distinct Numbers: [1, 2, 3, 4, 5]\n"
     ]
    }
   ],
   "source": [
    "import java.util.stream.Collectors;\n",
    "\n",
    "List<Integer> numbers = Arrays.asList(1, 2, 2, 3, 3, 4, 5);\n",
    "List<Integer> distinctNumbers = numbers.stream()\n",
    "                                       .distinct()\n",
    "                                       .collect(Collectors.toList());\n",
    "System.out.println(\"Distinct Numbers: \" + distinctNumbers);"
   ]
  },
  {
   "cell_type": "code",
   "execution_count": 180,
   "metadata": {},
   "outputs": [
    {
     "name": "stdout",
     "output_type": "stream",
     "text": [
      "Sorted Numbers: [1, 2, 3, 5, 9]\n"
     ]
    }
   ],
   "source": [
    "import java.util.stream.Collectors;\n",
    "\n",
    "List<Integer> numbers = Arrays.asList(5, 1, 3, 9, 2);\n",
    "List<Integer> sortedNumbers = numbers.stream()\n",
    "                                     .sorted()\n",
    "                                     .collect(Collectors.toList());\n",
    "System.out.println(\"Sorted Numbers: \" + sortedNumbers);"
   ]
  },
  {
   "cell_type": "code",
   "execution_count": 181,
   "metadata": {},
   "outputs": [
    {
     "name": "stdout",
     "output_type": "stream",
     "text": [
      "Unique Names: [Bob, Alice, Charlie]\n"
     ]
    }
   ],
   "source": [
    "import java.util.stream.Collectors;\n",
    "\n",
    "List<String> names = Arrays.asList(\"Alice\", \"Bob\", \"Charlie\", \"Alice\");\n",
    "Set<String> uniqueNames = names.stream()\n",
    "                               .collect(Collectors.toSet());\n",
    "System.out.println(\"Unique Names: \" + uniqueNames);"
   ]
  },
  {
   "cell_type": "code",
   "execution_count": 182,
   "metadata": {},
   "outputs": [
    {
     "name": "stdout",
     "output_type": "stream",
     "text": [
      "Hours: 1\n",
      "Minutes: 10\n",
      "Seconds: 20\n"
     ]
    }
   ],
   "source": [
    "String timestamp = \"1:10:20\";\n",
    "String[] timeParts = timestamp.split(\":\");\n",
    "int hours = Integer.parseInt(timeParts[0]);\n",
    "int minutes = Integer.parseInt(timeParts[1]);\n",
    "int seconds = Integer.parseInt(timeParts[2]);\n",
    "System.out.println(\"Hours: \" + hours);\n",
    "System.out.println(\"Minutes: \" + minutes);\n",
    "System.out.println(\"Seconds: \" + seconds);"
   ]
  },
  {
   "cell_type": "code",
   "execution_count": 183,
   "metadata": {},
   "outputs": [
    {
     "name": "stdout",
     "output_type": "stream",
     "text": [
      "Hours: 1\n",
      "Minutes: 10\n",
      "Seconds: 20\n"
     ]
    }
   ],
   "source": [
    "import java.time.LocalTime;\n",
    "import java.time.format.DateTimeParseException;\n",
    "\n",
    "String timestamp = \"01:10:20\";\n",
    "int hours;\n",
    "int minutes;\n",
    "int seconds;\n",
    "try {\n",
    "    LocalTime time = LocalTime.parse(timestamp);\n",
    "    hours = time.getHour();\n",
    "    minutes = time.getMinute();\n",
    "    seconds = time.getSecond();\n",
    "    System.out.println(\"Hours: \" + hours);\n",
    "    System.out.println(\"Minutes: \" + minutes);\n",
    "    System.out.println(\"Seconds: \" + seconds);\n",
    "} catch (DateTimeParseException e) {\n",
    "    System.out.println(\"Invalid time format: \" + e.getMessage());\n",
    "}\n"
   ]
  },
  {
   "cell_type": "code",
   "execution_count": 184,
   "metadata": {},
   "outputs": [
    {
     "name": "stdout",
     "output_type": "stream",
     "text": [
      "1010\n"
     ]
    }
   ],
   "source": [
    "// Find Binary of any num\n",
    "int num = 10;\n",
    "String binary = Integer.toBinaryString(num);\n",
    "System.out.println(binary);  "
   ]
  },
  {
   "cell_type": "markdown",
   "metadata": {},
   "source": [
    "## Formatting Numbers and Strings in Java"
   ]
  },
  {
   "cell_type": "code",
   "execution_count": 185,
   "metadata": {},
   "outputs": [
    {
     "name": "stdout",
     "output_type": "stream",
     "text": [
      "005\n"
     ]
    }
   ],
   "source": [
    "int num = 5;\n",
    "String padded = String.format(\"%03d\", num);\n",
    "System.out.println(padded);"
   ]
  },
  {
   "cell_type": "markdown",
   "metadata": {},
   "source": [
    "- %: This indicates that what follows is a format specifier.\n",
    "- 0: This is the padding character. The 0 means that the number should be padded with zeros.\n",
    "- 3: This specifies the width of the output. It ensures that the resulting string will be at least 3 characters long. If the number is shorter, it will be padded with zeros on the left.\n",
    "- d: This stands for \"decimal integer.\" It tells String.format() that the value being formatted is an integer."
   ]
  },
  {
   "cell_type": "markdown",
   "metadata": {},
   "source": [
    "# Streams for Collections"
   ]
  },
  {
   "cell_type": "code",
   "execution_count": 186,
   "metadata": {},
   "outputs": [
    {
     "data": {
      "text/plain": [
       "Alice-Bob-Charlie-Alice"
      ]
     },
     "execution_count": 186,
     "metadata": {},
     "output_type": "execute_result"
    }
   ],
   "source": [
    "import java.util.Arrays;  \n",
    "import java.util.List;  \n",
    "import java.util.stream.Collectors;\n",
    "\n",
    "List<String> names = Arrays.asList(\"Alice\", \"Bob\", \"Charlie\", \"Alice\");        \n",
    "String result = names.stream().collect(Collectors.joining(\"-\"));\n",
    "result;\n"
   ]
  },
  {
   "cell_type": "code",
   "execution_count": 187,
   "metadata": {},
   "outputs": [
    {
     "data": {
      "text/plain": [
       "4"
      ]
     },
     "execution_count": 187,
     "metadata": {},
     "output_type": "execute_result"
    }
   ],
   "source": [
    "import java.util.Arrays;  \n",
    "import java.util.List;  \n",
    "import java.util.stream.Collectors;\n",
    "\n",
    "List<String> names = Arrays.asList(\"Alice\", \"Bob\", \"Charlie\", \"Alice\");        \n",
    "long count = names.stream().collect(Collectors.counting());\n",
    "count;"
   ]
  },
  {
   "cell_type": "code",
   "execution_count": 188,
   "metadata": {},
   "outputs": [
    {
     "name": "stdout",
     "output_type": "stream",
     "text": [
      "Name: Bob, Count: 2\n",
      "Name: Alice, Count: 3\n",
      "Name: Charlie, Count: 1\n",
      "Name: David, Count: 1\n"
     ]
    }
   ],
   "source": [
    "List<String> names = Arrays.asList(\"Alice\", \"Bob\", \"Charlie\", \"Alice\", \"David\", \"Bob\", \"Alice\");\n",
    "// Count the number of occurrences of each name using the counting() collector\n",
    "Map<String, Long> nameCount = names.stream().collect(Collectors.groupingBy(name -> name, Collectors.counting()));\n",
    "// Print the count of each name\n",
    "nameCount.forEach((name, count) -> System.out.println(\"Name: \" + name + \", Count: \" + count));"
   ]
  },
  {
   "cell_type": "code",
   "execution_count": 189,
   "metadata": {},
   "outputs": [
    {
     "data": {
      "text/plain": [
       "IntSummaryStatistics{count=5, sum=15, min=1, average=3.000000, max=5}"
      ]
     },
     "execution_count": 189,
     "metadata": {},
     "output_type": "execute_result"
    }
   ],
   "source": [
    "import java.util.Arrays;  \n",
    "import java.util.List;  \n",
    "import java.util.stream.Collectors;\n",
    "\n",
    "Integer[] num = {1,2,3,4,5};\n",
    "\n",
    "// List<Integer> nums = Arrays.asList(5, 10, 15, 20);\n",
    "List<Integer> nums = Arrays.asList(num);\n",
    "IntSummaryStatistics stats = nums.stream().collect(Collectors.summarizingInt(Integer::intValue));\n",
    "stats;"
   ]
  },
  {
   "cell_type": "code",
   "execution_count": 190,
   "metadata": {},
   "outputs": [
    {
     "data": {
      "text/plain": [
       "IntSummaryStatistics{count=4, sum=20, min=3, average=5.000000, max=7}"
      ]
     },
     "execution_count": 190,
     "metadata": {},
     "output_type": "execute_result"
    }
   ],
   "source": [
    "import java.util.Arrays;  \n",
    "import java.util.List;  \n",
    "import java.util.stream.Collectors;\n",
    "\n",
    "List<String> names = Arrays.asList(\"Alice\", \"Bob\", \"Charlie\", \"Alice\");        \n",
    "IntSummaryStatistics stats = names.stream().collect(Collectors.summarizingInt(String::length));\n",
    "stats;"
   ]
  },
  {
   "cell_type": "code",
   "execution_count": 191,
   "metadata": {},
   "outputs": [
    {
     "data": {
      "text/plain": [
       "DoubleSummaryStatistics{count=5, sum=16.680000, min=1.230000, average=3.336000, max=5.560000}"
      ]
     },
     "execution_count": 191,
     "metadata": {},
     "output_type": "execute_result"
    }
   ],
   "source": [
    "import java.util.Arrays;  \n",
    "import java.util.List;  \n",
    "import java.util.stream.Collectors;\n",
    "\n",
    "Double[] num = {1.23,2.32,3.34,4.23,5.56};\n",
    "\n",
    "List<Double> nums = Arrays.asList(num);\n",
    "DoubleSummaryStatistics stats = nums.stream().collect(Collectors.summarizingDouble(Double::doubleValue));\n",
    "stats;"
   ]
  },
  {
   "cell_type": "code",
   "execution_count": 192,
   "metadata": {},
   "outputs": [
    {
     "data": {
      "text/plain": [
       "DoubleSummaryStatistics{count=4, sum=11.580000, min=1.230000, average=2.895000, max=4.560000}"
      ]
     },
     "execution_count": 192,
     "metadata": {},
     "output_type": "execute_result"
    }
   ],
   "source": [
    "import java.util.Arrays;  \n",
    "import java.util.List;  \n",
    "import java.util.stream.Collectors;\n",
    "\n",
    "List<String> numStrings = Arrays.asList(\"1.23\", \"2.34\", \"3.45\", \"4.56\");      \n",
    "DoubleSummaryStatistics stats = numStrings.stream().collect(Collectors.summarizingDouble(Double::parseDouble));\n",
    "stats;"
   ]
  },
  {
   "cell_type": "code",
   "execution_count": 193,
   "metadata": {},
   "outputs": [
    {
     "name": "stdout",
     "output_type": "stream",
     "text": [
      "100\n",
      "100\n"
     ]
    }
   ],
   "source": [
    "Integer integerObj = new Integer(100);\n",
    "System.out.println(integerObj);\n",
    "System.out.println(integerObj.intValue());"
   ]
  },
  {
   "cell_type": "code",
   "execution_count": 194,
   "metadata": {},
   "outputs": [
    {
     "name": "stdout",
     "output_type": "stream",
     "text": [
      "int from integerObj1: 200\n",
      "Parsed form '150': 150\n",
      "String representation: 200\n",
      "Comparision: 1\n"
     ]
    }
   ],
   "source": [
    "Integer integerObj1 = new Integer(200);\n",
    "Integer integerObj2 = new Integer(100);\n",
    "\n",
    "int primitiveValue = integerObj1.intValue();\n",
    "System.out.println(\"int from integerObj1: \" + primitiveValue);\n",
    "\n",
    "int parsedInt = Integer.parseInt(\"150\");\n",
    "System.out.println(\"Parsed form '150': \" + parsedInt);\n",
    "\n",
    "String stringValue = integerObj1.toString();\n",
    "System.out.println(\"String representation: \" + stringValue);\n",
    "\n",
    "int comparisonResult = integerObj1.compareTo(integerObj2);\n",
    "System.out.println(\"Comparision: \" + comparisonResult);"
   ]
  },
  {
   "cell_type": "code",
   "execution_count": 195,
   "metadata": {},
   "outputs": [
    {
     "name": "stdout",
     "output_type": "stream",
     "text": [
      "Concatenated String: Alice..Bob..Charlie..Alice\n"
     ]
    }
   ],
   "source": [
    "List<String> names = Arrays.asList(\"Alice\", \"Bob\", \"Charlie\", \"Alice\");\n",
    "Optional<String> concatenated = names.stream().collect(Collectors.reducing((s1, s2) -> s1 +\"..\" + s2));\n",
    "concatenated.ifPresent(result -> System.out.println(\"Concatenated String: \" + result));"
   ]
  },
  {
   "cell_type": "code",
   "execution_count": 196,
   "metadata": {},
   "outputs": [
    {
     "name": "stdout",
     "output_type": "stream",
     "text": [
      "Concatenated String: 15\n"
     ]
    }
   ],
   "source": [
    "List<Integer> nums = Arrays.asList(1,2,3,4,5);\n",
    "Optional<Integer> concatenated = nums.stream().collect(Collectors.reducing((s1, s2) -> s1  + s2));\n",
    "concatenated.ifPresent(result -> System.out.println(\"Concatenated String: \" + result));"
   ]
  },
  {
   "cell_type": "code",
   "execution_count": 197,
   "metadata": {},
   "outputs": [
    {
     "data": {
      "text/plain": [
       "AliceBobCharlieAlice"
      ]
     },
     "execution_count": 197,
     "metadata": {},
     "output_type": "execute_result"
    }
   ],
   "source": [
    "List<String> names = Arrays.asList(\"Alice\", \"Bob\", \"Charlie\", \"Alice\");\n",
    "String result = names.stream().collect(Collectors.reducing(\"\", String::concat));\n",
    "result"
   ]
  },
  {
   "cell_type": "code",
   "execution_count": 198,
   "metadata": {},
   "outputs": [
    {
     "data": {
      "text/plain": [
       "Faze FLynn 21 1.2 21 21"
      ]
     },
     "execution_count": 198,
     "metadata": {},
     "output_type": "execute_result"
    }
   ],
   "source": [
    "String fname = \"Faze\";\n",
    "String lname = \"FLynn\";\n",
    "int age = 21;\n",
    "double gpa = 1.2;\n",
    "String full_name = fname + \" \" + lname + \" \" + Integer.toString(age) + \" \" + Double.toString(gpa) + \" \" + String.valueOf(age) +\" \" + age;\n",
    "full_name;"
   ]
  },
  {
   "cell_type": "code",
   "execution_count": 199,
   "metadata": {},
   "outputs": [
    {
     "name": "stdout",
     "output_type": "stream",
     "text": [
      "Length: 3, Count: 2\n",
      "Length: 5, Count: 2\n",
      "Length: 7, Count: 1\n"
     ]
    }
   ],
   "source": [
    "import java.util.Arrays;\n",
    "import java.util.List;\n",
    "import java.util.Map;\n",
    "import java.util.stream.Collectors;\n",
    "\n",
    "List<String> names = Arrays.asList(\"Alice\", \"Bob\", \"Charlie\", \"David\", \"Eve\");\n",
    "// Grouping by the length of the string and counting occurrences\n",
    "Map<Integer, Long> groupedCount = names.stream()\n",
    "        .collect(Collectors.groupingBy(String::length, Collectors.counting()));\n",
    "groupedCount.forEach((length, count) -> \n",
    "    System.out.println(\"Length: \" + length + \", Count: \" + count));"
   ]
  },
  {
   "cell_type": "code",
   "execution_count": 200,
   "metadata": {},
   "outputs": [
    {
     "data": {
      "text/plain": [
       "[5, 3, 7, 5, 3]"
      ]
     },
     "execution_count": 200,
     "metadata": {},
     "output_type": "execute_result"
    }
   ],
   "source": [
    "List<String> names = Arrays.asList(\"Alice\", \"Bob\", \"Charlie\", \"David\", \"Eve\");\n",
    "List<Integer> lengths = names.stream().collect(Collectors.mapping(String::length, Collectors.toList()));\n",
    "lengths;"
   ]
  },
  {
   "cell_type": "code",
   "execution_count": 12,
   "metadata": {},
   "outputs": [
    {
     "data": {
      "text/plain": [
       "{2=oy, 3=Bob, 4=Even, 5=Alice, 9=Charliesa}"
      ]
     },
     "execution_count": 12,
     "metadata": {},
     "output_type": "execute_result"
    }
   ],
   "source": [
    "import java.util.Arrays;\n",
    "import java.util.List;\n",
    "import java.util.Map;\n",
    "import java.util.function.Function;\n",
    "import java.util.stream.Collectors;\n",
    "\n",
    "List<String> names = Arrays.asList(\"oy\",\"ed\",\"Alice\", \"Bob\", \"Charliesa\", \"id\", \"Even\");\n",
    "// Map<Integer, String> map = names.stream().collect(Collectors.toMap(String::length, Function.identity())); // this will only work when value are not duplicate, keys should be unique\n",
    "Map<Integer, String> map = names.stream().collect(Collectors.toMap(String::length, Function.identity(),      // Value: the string itself\n",
    "(existing, replacement) -> existing // Keep the existing value if there is a duplicate\n",
    "));\n",
    "\n",
    "map;"
   ]
  },
  {
   "cell_type": "code",
   "execution_count": null,
   "metadata": {},
   "outputs": [],
   "source": [
    "import java.util.function.Function;\n",
    "import java.util.stream.Collectors;\n",
    "\n",
    "List<String> names = Arrays.asList(\"oy\",\"ed\",\"Alice\", \"Bob\", \"Charliesa\", \"id\", \"Even\");\n",
    "Map<Integer, String> map = names.stream().collect(Collectors.toMap(String::length, Function.identity(),      // Value: the string itself\n",
    "(existing, replacement) -> existing // Keep the existing value if there is a duplicate\n",
    "));"
   ]
  },
  {
   "cell_type": "markdown",
   "metadata": {},
   "source": [
    "## Self Test"
   ]
  },
  {
   "cell_type": "code",
   "execution_count": 242,
   "metadata": {},
   "outputs": [
    {
     "data": {
      "text/plain": [
       "[1, 2, 3, 4, 5]"
      ]
     },
     "execution_count": 242,
     "metadata": {},
     "output_type": "execute_result"
    }
   ],
   "source": [
    "// // Failed\n",
    "List<Integer> mynum = new ArrayList<>();\n",
    "mynum.add(1);\n",
    "mynum.add(2);\n",
    "mynum.add(3);\n",
    "mynum.add(4);\n",
    "mynum.add(5);\n",
    "mynum;\n",
    "\n",
    "Integer[] mynumArray = mynum.stream().toArray(Integer[]::new);\n",
    "Arrays.toString(mynumArray);"
   ]
  },
  {
   "cell_type": "code",
   "execution_count": 245,
   "metadata": {},
   "outputs": [
    {
     "data": {
      "text/plain": [
       "[1, 2, 3, 4, 5]"
      ]
     },
     "execution_count": 245,
     "metadata": {},
     "output_type": "execute_result"
    }
   ],
   "source": [
    "import java.util.stream.*;\n",
    "\n",
    "Integer[] mynum = {1, 2, 3, 4, 5};\n",
    "Integer[] mynumArray = Arrays.stream(mynum).toArray(Integer[]::new);\n",
    "Arrays.toString(mynumArray)  // Output: [1, 2, 3, 4, 5]"
   ]
  },
  {
   "cell_type": "code",
   "execution_count": 263,
   "metadata": {},
   "outputs": [
    {
     "data": {
      "text/plain": [
       "[1, 4, 9, 16]"
      ]
     },
     "execution_count": 263,
     "metadata": {},
     "output_type": "execute_result"
    }
   ],
   "source": [
    "// Using int\n",
    "int[] numbers = {1, 2, 3, 4}; \n",
    "numbers = Arrays.stream(numbers)\n",
    "                      .map(x -> x * x)\n",
    "                      .toArray();\n",
    "Arrays.toString(squares);"
   ]
  },
  {
   "cell_type": "code",
   "execution_count": 249,
   "metadata": {},
   "outputs": [
    {
     "name": "stdout",
     "output_type": "stream",
     "text": [
      "[1, 4, 9, 16, 25]\n"
     ]
    }
   ],
   "source": [
    "Integer[] numbers = {1, 2, 3, 4, 5};\n",
    "\n",
    "        // Square each element in place\n",
    "        for (int i = 0; i < numbers.length; i++) {\n",
    "            numbers[i] = numbers[i] * numbers[i];\n",
    "        }\n",
    "\n",
    "        // Print the modified array\n",
    "        System.out.println(Arrays.toString(numbers));  // Output: [1, 4, 9, 16, 25]"
   ]
  },
  {
   "cell_type": "code",
   "execution_count": 214,
   "metadata": {},
   "outputs": [
    {
     "data": {
      "text/plain": [
       "[1, 4, 9, 16, 25]"
      ]
     },
     "execution_count": 214,
     "metadata": {},
     "output_type": "execute_result"
    }
   ],
   "source": [
    "List<Integer> mynum = new ArrayList<>();\n",
    "mynum.add(1);\n",
    "mynum.add(2);\n",
    "mynum.add(3);\n",
    "mynum.add(4);\n",
    "mynum.add(5);\n",
    "mynum;\n",
    "\n",
    "Integer[] mySqArray = mynum.stream()\n",
    "                                    .map(x -> x*x)\n",
    "                                    .toArray(Integer[]::new);\n",
    "Arrays.toString(mySqArray);\n",
    "\n"
   ]
  },
  {
   "cell_type": "code",
   "execution_count": 4,
   "metadata": {},
   "outputs": [
    {
     "data": {
      "text/plain": [
       "[h, e, l, l, o]"
      ]
     },
     "execution_count": 4,
     "metadata": {},
     "output_type": "execute_result"
    }
   ],
   "source": [
    "String str = \"hello\";\n",
    "String[] strArr = str.split(\"\");\n",
    "Arrays.toString(strArr);"
   ]
  },
  {
   "cell_type": "code",
   "execution_count": 16,
   "metadata": {},
   "outputs": [
    {
     "data": {
      "text/plain": [
       "[1, 4, 9, 16, 25]"
      ]
     },
     "execution_count": 16,
     "metadata": {},
     "output_type": "execute_result"
    }
   ],
   "source": [
    "int[] nums = {1,2,3,4,5};\n",
    "nums = Arrays.stream(nums).map(x -> x*x).toArray();\n",
    "Arrays.toString(nums);"
   ]
  },
  {
   "cell_type": "code",
   "execution_count": 25,
   "metadata": {},
   "outputs": [
    {
     "name": "stdout",
     "output_type": "stream",
     "text": [
      "[1, 4, 9, 16]\n"
     ]
    }
   ],
   "source": [
    "Integer[] numbers = {1, 2, 3, 4};\n",
    "numbers = Arrays.stream(numbers)\n",
    "                          .map(x -> x * x)\n",
    "                          .toArray(Integer[]::new);\n",
    "System.out.println(Arrays.toString(squares)); // Output: [1, 4, 9, 16]"
   ]
  },
  {
   "cell_type": "code",
   "execution_count": 3,
   "metadata": {},
   "outputs": [
    {
     "data": {
      "text/plain": [
       "[2, 4, 6, 8, 10]"
      ]
     },
     "execution_count": 3,
     "metadata": {},
     "output_type": "execute_result"
    }
   ],
   "source": [
    "int[] nums = {1,2,3,4,5,6,7,8,9,10};\n",
    "nums = Arrays.stream(nums).filter(x -> x%2==0).toArray();\n",
    "Arrays.toString(nums);"
   ]
  },
  {
   "cell_type": "code",
   "execution_count": 2,
   "metadata": {},
   "outputs": [
    {
     "data": {
      "text/plain": [
       "55"
      ]
     },
     "execution_count": 2,
     "metadata": {},
     "output_type": "execute_result"
    }
   ],
   "source": [
    "int[] nums = {1,2,3,4,5,6,7,8,9,10};\n",
    "int num = Arrays.stream(nums).reduce(0, (acc,x) -> acc+x);\n",
    "num;"
   ]
  },
  {
   "cell_type": "code",
   "execution_count": 10,
   "metadata": {},
   "outputs": [
    {
     "name": "stdout",
     "output_type": "stream",
     "text": [
      "15\n"
     ]
    }
   ],
   "source": [
    "int[] numbers = {1, 2, 3, 4, 5};\n",
    "int sumOfSquares = Arrays.stream(numbers).sum();\n",
    "System.out.println(sumOfSquares); // Output: 55"
   ]
  },
  {
   "cell_type": "code",
   "execution_count": 16,
   "metadata": {},
   "outputs": [
    {
     "data": {
      "text/plain": [
       "15"
      ]
     },
     "execution_count": 16,
     "metadata": {},
     "output_type": "execute_result"
    }
   ],
   "source": [
    "Integer[] numbers = {1, 2, 3, 4, 5};\n",
    "int sum = Arrays.stream(numbers).mapToInt(Integer::intValue).sum();  // Uses mapToInt to convert to IntStream\n",
    "sum;"
   ]
  },
  {
   "cell_type": "code",
   "execution_count": 43,
   "metadata": {},
   "outputs": [
    {
     "data": {
      "text/plain": [
       "[1, 2, 3, 4, 5]"
      ]
     },
     "execution_count": 43,
     "metadata": {},
     "output_type": "execute_result"
    }
   ],
   "source": [
    "Integer[] numbers = {1, 2, 3, 4, 5};\n",
    "int[] nums = Arrays.stream(numbers).mapToInt(Integer::intValue).toArray();\n",
    "Arrays.toString(nums);"
   ]
  },
  {
   "cell_type": "code",
   "execution_count": 25,
   "metadata": {},
   "outputs": [
    {
     "data": {
      "text/plain": [
       "AliceBobCharlieDrake"
      ]
     },
     "execution_count": 25,
     "metadata": {},
     "output_type": "execute_result"
    }
   ],
   "source": [
    "String[] str = {\"Alice\", \"Bob\", \"Charlie\", \"Drake\"};\n",
    "String concat = Arrays.stream(str).reduce(\"\", (a,b) -> a+b);\n",
    "concat;"
   ]
  },
  {
   "cell_type": "code",
   "execution_count": 33,
   "metadata": {},
   "outputs": [
    {
     "data": {
      "text/plain": [
       "[Alice, Charlie, Drake]"
      ]
     },
     "execution_count": 33,
     "metadata": {},
     "output_type": "execute_result"
    }
   ],
   "source": [
    "String[] str = {\"Alice\", \"Bob\", \"Charlie\", \"Drake\"};\n",
    "String[] filteredStr = Arrays.stream(str).filter(word -> word.length() > 3).toArray(String[]::new);\n",
    "Arrays.toString(filteredStr);"
   ]
  },
  {
   "cell_type": "code",
   "execution_count": 34,
   "metadata": {},
   "outputs": [
    {
     "data": {
      "text/plain": [
       "[ALICE, BOB, CHARLIE, DRAKE]"
      ]
     },
     "execution_count": 34,
     "metadata": {},
     "output_type": "execute_result"
    }
   ],
   "source": [
    "String[] str = {\"Alice\", \"Bob\", \"Charlie\", \"Drake\"};\n",
    "str = Arrays.stream(str).map(String::toUpperCase).toArray(String[]::new);\n",
    "Arrays.toString(str);"
   ]
  },
  {
   "cell_type": "code",
   "execution_count": 36,
   "metadata": {},
   "outputs": [
    {
     "data": {
      "text/plain": [
       "[5, 3, 7, 5]"
      ]
     },
     "execution_count": 36,
     "metadata": {},
     "output_type": "execute_result"
    }
   ],
   "source": [
    "String[] str = {\"Alice\", \"Bob\", \"Charlie\", \"Drake\"};\n",
    "Integer[] len = Arrays.stream(str).map(String::length).toArray(Integer[]::new);\n",
    "Arrays.toString(len);"
   ]
  },
  {
   "cell_type": "code",
   "execution_count": 41,
   "metadata": {},
   "outputs": [
    {
     "data": {
      "text/plain": [
       "[5, 3, 7, 5]"
      ]
     },
     "execution_count": 41,
     "metadata": {},
     "output_type": "execute_result"
    }
   ],
   "source": [
    "String[] str = {\"Alice\", \"Bob\", \"Charlie\", \"Drake\"};\n",
    "int[] len = Arrays.stream(str).mapToInt(String::length).toArray();\n",
    "Arrays.toString(len);"
   ]
  },
  {
   "cell_type": "code",
   "execution_count": 4,
   "metadata": {},
   "outputs": [
    {
     "data": {
      "text/plain": [
       "[1, 4, 9, 16, 25]"
      ]
     },
     "execution_count": 4,
     "metadata": {},
     "output_type": "execute_result"
    }
   ],
   "source": [
    "import java.util.Arrays;\n",
    "int[] nums = {1,2,3,4,5};\n",
    "int[] SQofNums = Arrays.stream(nums).map(x -> x*x).toArray();\n",
    "Arrays.toString(SQofNums);"
   ]
  },
  {
   "cell_type": "code",
   "execution_count": 5,
   "metadata": {},
   "outputs": [
    {
     "data": {
      "text/plain": [
       "[1, 3, 5]"
      ]
     },
     "execution_count": 5,
     "metadata": {},
     "output_type": "execute_result"
    }
   ],
   "source": [
    "int[] oddNums = Arrays.stream(nums).filter(x -> x%2!=0).toArray();\n",
    "Arrays.toString(oddNums);"
   ]
  },
  {
   "cell_type": "code",
   "execution_count": 8,
   "metadata": {},
   "outputs": [
    {
     "data": {
      "text/plain": [
       "120"
      ]
     },
     "execution_count": 8,
     "metadata": {},
     "output_type": "execute_result"
    }
   ],
   "source": [
    "int sumOfEle = Arrays.stream(nums).reduce(1, (acc,x) -> acc*x);\n",
    "sumOfEle;"
   ]
  },
  {
   "cell_type": "markdown",
   "metadata": {},
   "source": [
    "### Map test - 70 out of 100;"
   ]
  },
  {
   "cell_type": "code",
   "execution_count": 8,
   "metadata": {},
   "outputs": [
    {
     "data": {
      "text/plain": [
       "{3=boy, 4=Cats, 5=davis}"
      ]
     },
     "execution_count": 8,
     "metadata": {},
     "output_type": "execute_result"
    }
   ],
   "source": [
    "import java.util.stream.Collectors;\n",
    "import java.util.Map;\n",
    "import java.util.List;\n",
    "import java.util.function.Function;\n",
    "\n",
    "List<String> fruits = Arrays.asList(\"Apple\", \"boy\", \"Cats\", \"davis\");\n",
    "Map<Integer, String> mymap = fruits.stream().collect(Collectors.toMap(String::length, Function.identity(), (existing, replacement) -> replacement));\n",
    "mymap;"
   ]
  },
  {
   "cell_type": "code",
   "execution_count": 10,
   "metadata": {},
   "outputs": [
    {
     "data": {
      "text/plain": [
       "[a, b, c, d]"
      ]
     },
     "execution_count": 10,
     "metadata": {},
     "output_type": "execute_result"
    }
   ],
   "source": [
    "import java.util.Set;\n",
    "import java.util.List;\n",
    "import java.util.Arrays;\n",
    "import java.util.stream.Collectors;\n",
    "\n",
    "List<Character> chars = Arrays.asList('a','b','c','d','c','d','a');\n",
    "Set<Character> myset = chars.stream().collect(Collectors.toSet());\n",
    "myset;"
   ]
  },
  {
   "cell_type": "markdown",
   "metadata": {},
   "source": [
    "### Removing Duplicates Efficiently\n",
    "steps:\n",
    "1. add in sets\n",
    "2. add in string builder\n",
    "3. return a char array from string builer by toCharArray"
   ]
  },
  {
   "cell_type": "code",
   "execution_count": 6,
   "metadata": {},
   "outputs": [
    {
     "data": {
      "text/plain": [
       "[a, b, c, d]"
      ]
     },
     "execution_count": 6,
     "metadata": {},
     "output_type": "execute_result"
    }
   ],
   "source": [
    "char[] chars = {'a','b','c','d','b','c'};\n",
    "\n",
    "Set<Character> seen = new HashSet<>();\n",
    "StringBuilder sb = new StringBuilder();\n",
    "\n",
    "for (char c : chars){\n",
    "    if(!seen.contains(c)){\n",
    "        seen.add(c);\n",
    "        sb.append(c);\n",
    "    }\n",
    "}\n",
    "\n",
    "char[] newChar = sb.toString().toCharArray();\n",
    "Arrays.toString(newChar);"
   ]
  },
  {
   "cell_type": "code",
   "execution_count": 16,
   "metadata": {},
   "outputs": [
    {
     "data": {
      "text/plain": [
       "7"
      ]
     },
     "execution_count": 16,
     "metadata": {},
     "output_type": "execute_result"
    }
   ],
   "source": [
    "int a = 'a' - 'Z';\n",
    "a"
   ]
  },
  {
   "cell_type": "code",
   "execution_count": 21,
   "metadata": {},
   "outputs": [
    {
     "data": {
      "text/plain": [
       "90"
      ]
     },
     "execution_count": 21,
     "metadata": {},
     "output_type": "execute_result"
    }
   ],
   "source": [
    "char character = 'Z';\n",
    "int asciiValue = (int) character;\n",
    "asciiValue;"
   ]
  },
  {
   "cell_type": "code",
   "execution_count": 10,
   "metadata": {},
   "outputs": [
    {
     "data": {
      "text/plain": [
       "{3=Boy, 4=Cats, 5=Apple}"
      ]
     },
     "execution_count": 10,
     "metadata": {},
     "output_type": "execute_result"
    }
   ],
   "source": [
    "import java.util.Arrays;\n",
    "import java.util.List;\n",
    "import java.util.Map;\n",
    "import java.util.stream.Collectors;\n",
    "import java.util.function.Function;\n",
    "\n",
    "List<String> fruits = Arrays.asList(\"Apple\", \"Boy\", \"Cats\", \"Dog\");\n",
    "Map<Integer,String> mymap = fruits.stream().collect(Collectors.toMap(String::length, x -> x, (existing, replacement) -> existing));\n",
    "mymap;"
   ]
  },
  {
   "cell_type": "code",
   "execution_count": 17,
   "metadata": {},
   "outputs": [
    {
     "name": "stdout",
     "output_type": "stream",
     "text": [
      "[1, 4, 9, 16, 25, 36]\n",
      "[1, 3, 5]\n",
      "720\n"
     ]
    }
   ],
   "source": [
    "import java.util.Arrays;\n",
    "\n",
    "int[] mynums = {1,2,3,4,5,6};\n",
    "int[] sqnums = Arrays.stream(mynums).map(x -> x*x).toArray();\n",
    "System.out.println(Arrays.toString(sqnums));\n",
    "\n",
    "int[] filternums = Arrays.stream(mynums).filter(x -> x%2!=0).toArray();\n",
    "System.out.println(Arrays.toString(filternums));\n",
    "\n",
    "int product = Arrays.stream(mynums).reduce(1, (acc,x) -> acc*x);\n",
    "System.out.println(product);"
   ]
  },
  {
   "cell_type": "code",
   "execution_count": 37,
   "metadata": {},
   "outputs": [
    {
     "name": "stdout",
     "output_type": "stream",
     "text": [
      "[Apples, boys, catss]\n",
      "[boy, cats]\n",
      "Apple boy cats \n"
     ]
    }
   ],
   "source": [
    "import java.util.Arrays;\n",
    "\n",
    "String[] words = {\"Apple\", \"boy\", \"cats\"};\n",
    "String[] wordConcat = Arrays.stream(words).map(x -> x + \"s\").toArray(String[]::new);\n",
    "System.out.println(Arrays.toString(wordConcat));\n",
    "\n",
    "String[] wordFilter = Arrays.stream(words).filter(word -> word.length() <= 4).toArray(String[]::new);\n",
    "System.out.println(Arrays.toString(wordFilter));\n",
    "\n",
    "String wordReduce = Arrays.stream(words).reduce(\"\", (acc,x) -> acc + x + \" \");\n",
    "System.out.println(wordReduce);"
   ]
  },
  {
   "cell_type": "code",
   "execution_count": 39,
   "metadata": {},
   "outputs": [
    {
     "data": {
      "text/plain": [
       "[5, 3, 4]"
      ]
     },
     "execution_count": 39,
     "metadata": {},
     "output_type": "execute_result"
    }
   ],
   "source": [
    "import java.util.Arrays;\n",
    "\n",
    "String[] words = {\"Apple\", \"boy\", \"cats\"};\n",
    "int[] len = Arrays.stream(words).mapToInt(String::length).toArray();\n",
    "Arrays.toString(len);"
   ]
  },
  {
   "cell_type": "code",
   "execution_count": 44,
   "metadata": {},
   "outputs": [
    {
     "data": {
      "text/plain": [
       "[5, 3, 4]"
      ]
     },
     "execution_count": 44,
     "metadata": {},
     "output_type": "execute_result"
    }
   ],
   "source": [
    "import java.util.Arrays;\n",
    "import java.util.List;\n",
    "import java.util.stream.Collectors;\n",
    "\n",
    "List<String> words = Arrays.asList(\"Apple\", \"boy\", \"cats\");\n",
    "// List<Integer> len = words.stream().map(x -> x.length()).collect(Collectors.toList());\n",
    "List<Integer> len = words.stream().map(String::length).collect(Collectors.toList());\n",
    "len;"
   ]
  },
  {
   "cell_type": "code",
   "execution_count": 59,
   "metadata": {},
   "outputs": [
    {
     "data": {
      "text/plain": [
       "{1=Apple, 2=Boy, 3=Cat}"
      ]
     },
     "execution_count": 59,
     "metadata": {},
     "output_type": "execute_result"
    }
   ],
   "source": [
    "import java.util.Map;\n",
    "\n",
    "Map<Integer, String> myMap = new HashMap<>();\n",
    "myMap.put(3,\"Cat\");\n",
    "myMap.put(2,\"Boy\");\n",
    "myMap.put(1,\"Apple\");\n",
    "\n",
    "myMap;"
   ]
  },
  {
   "cell_type": "markdown",
   "metadata": {},
   "source": [
    "### Got - 90/100"
   ]
  },
  {
   "cell_type": "code",
   "execution_count": 8,
   "metadata": {},
   "outputs": [
    {
     "data": {
      "text/plain": [
       "02:09:10"
      ]
     },
     "execution_count": 8,
     "metadata": {},
     "output_type": "execute_result"
    }
   ],
   "source": [
    "// 2:10:40 + 30 = 2:11:10;\n",
    "\n",
    "String timestamp = \"2:08:40\";\n",
    "int Offset = 30;\n",
    "\n",
    "String[] timeArr = timestamp.split(\":\");\n",
    "\n",
    "int hr = Integer.parseInt(timeArr[0]);\n",
    "int mn = Integer.parseInt(timeArr[1]);\n",
    "int ss = Integer.parseInt(timeArr[2]);\n",
    "\n",
    "int totalSec = (hr*3600) + (mn*60) + ss;\n",
    "totalSec += Offset;\n",
    "\n",
    "hr = totalSec/3600;\n",
    "totalSec = totalSec%3600;\n",
    "mn = totalSec/60;\n",
    "totalSec = totalSec%60;\n",
    "ss = totalSec;\n",
    "\n",
    "String newTime = String.format(\"%02d\",hr) +\":\"+String.format(\"%02d\",mn)+\":\"+String.format(\"%02d\",ss);\n",
    "// String newTime = hr +\":\"+mn+\":\"+ss;\n",
    "newTime;"
   ]
  },
  {
   "cell_type": "code",
   "execution_count": 15,
   "metadata": {},
   "outputs": [
    {
     "data": {
      "text/plain": [
       "AliceBobCrisDavid"
      ]
     },
     "execution_count": 15,
     "metadata": {},
     "output_type": "execute_result"
    }
   ],
   "source": [
    "import java.util.stream.Collectors;\n",
    "\n",
    "String[] myStr = {\"Alice\",\"Bob\",\"Cris\",\"David\"};\n",
    "String str = Arrays.stream(myStr).collect(Collectors.joining(\"\"));\n",
    "str;"
   ]
  },
  {
   "cell_type": "code",
   "execution_count": 28,
   "metadata": {},
   "outputs": [
    {
     "data": {
      "text/plain": [
       "AliceBobCrisDavidBob"
      ]
     },
     "execution_count": 28,
     "metadata": {},
     "output_type": "execute_result"
    }
   ],
   "source": [
    "import java.util.stream.Collectors;\n",
    "import java.util.List;\n",
    "\n",
    "String[] myStr = {\"Alice\",\"Bob\",\"Cris\",\"David\",\"Bob\"};\n",
    "List<String> myList = Arrays.asList(myStr);\n",
    "String str = myList.stream().collect(Collectors.joining(\"\"));\n",
    "str;"
   ]
  },
  {
   "cell_type": "code",
   "execution_count": 29,
   "metadata": {},
   "outputs": [
    {
     "data": {
      "text/plain": [
       "00010"
      ]
     },
     "execution_count": 29,
     "metadata": {},
     "output_type": "execute_result"
    }
   ],
   "source": [
    "int a = 2;\n",
    "String Bin = Integer.toBinaryString(a);\n",
    "Bin;\n",
    "String formatted = String.format(\"%5s\", Bin).replace(\" \",\"0\");\n",
    "formatted;\n"
   ]
  },
  {
   "cell_type": "code",
   "execution_count": 37,
   "metadata": {},
   "outputs": [
    {
     "data": {
      "text/plain": [
       "1000001"
      ]
     },
     "execution_count": 37,
     "metadata": {},
     "output_type": "execute_result"
    }
   ],
   "source": [
    "char ch = 'A';\n",
    "int asciiValue = (int) ch;\n",
    "// System.out.println(asciiValue);\n",
    "String binOfCh = String.format(\"%5s\", Integer.toBinaryString(asciiValue)).replace(\" \", \"0\");\n",
    "binOfCh;"
   ]
  },
  {
   "cell_type": "markdown",
   "metadata": {},
   "source": [
    "# Sets"
   ]
  },
  {
   "cell_type": "code",
   "execution_count": 5,
   "metadata": {},
   "outputs": [
    {
     "data": {
      "text/plain": [
       "[2, 3, 4, 5, 10]"
      ]
     },
     "execution_count": 5,
     "metadata": {},
     "output_type": "execute_result"
    }
   ],
   "source": [
    "Set<Integer> normalSet = new HashSet<>(Arrays.asList(2,3,4,5,5,5,5));\n",
    "normalSet.add(10);\n",
    "normalSet.add(2);\n",
    "normalSet;"
   ]
  },
  {
   "cell_type": "code",
   "execution_count": 9,
   "metadata": {},
   "outputs": [
    {
     "data": {
      "text/plain": [
       "{2=4, 1=2, 4=8, 3=6}"
      ]
     },
     "execution_count": 9,
     "metadata": {},
     "output_type": "execute_result"
    }
   ],
   "source": [
    "Map<Integer, Integer> normalMap = Map.ofEntries(\n",
    "    Map.entry(1,2),\n",
    "    Map.entry(2,4),\n",
    "    Map.entry(3,6),\n",
    "    Map.entry(4,8)\n",
    "); \n",
    "normalMap;"
   ]
  },
  {
   "cell_type": "code",
   "execution_count": null,
   "metadata": {},
   "outputs": [
    {
     "data": {
      "text/plain": [
       "{1=2, 7=8, 5=6, 3=4}"
      ]
     },
     "execution_count": 11,
     "metadata": {},
     "output_type": "execute_result"
    }
   ],
   "source": [
    "Map<Integer,Integer> mapFromArrays = Map.of(1,2,3,4,5,6,7,8); // immutable Map\n",
    "mapFromArrays;"
   ]
  },
  {
   "cell_type": "code",
   "execution_count": 1,
   "metadata": {},
   "outputs": [
    {
     "name": "stdout",
     "output_type": "stream",
     "text": [
      "0 1 1 2 3 5 8 13 21 34 "
     ]
    }
   ],
   "source": [
    "int n = 10;\n",
    "\n",
    "public static int fibonacci(int n) {\n",
    "    if (n <= 1) return n;\n",
    "    return fibonacci(n - 1) + fibonacci(n - 2);\n",
    "}\n",
    "\n",
    "for (int i = 0; i < n; i++) {\n",
    "    System.out.print(fibonacci(i) + \" \");\n",
    "}"
   ]
  },
  {
   "cell_type": "markdown",
   "metadata": {},
   "source": [
    "### Find Longest Substring Without Repeating Characters\n",
    "- Given a string, find the length of the longest substring without repeating characters.\n",
    "\n",
    "`Example`:\n",
    "\n",
    "```plaintext\n",
    "Input: \"abcabcbb\"\n",
    "Output: 3 (The answer is \"abc\")\n",
    "```"
   ]
  },
  {
   "cell_type": "code",
   "execution_count": 1,
   "metadata": {},
   "outputs": [
    {
     "name": "stdout",
     "output_type": "stream",
     "text": [
      "4\n"
     ]
    }
   ],
   "source": [
    "//store character in hashmap and start the substring counter\n",
    "//check whether the new character is already present in the hashmap or not\n",
    "//if it is, then stop the counter and store it in a variable and compare with it\n",
    "//if it is max the then reassign it\n",
    "\n",
    "// it cannot pass some test cases\n",
    "import java.util.HashMap;\n",
    "\n",
    "// String str = \"abcabcbb\";\n",
    "String str = \"auguviutgeio\";\n",
    "Map<Character, Integer> map = new HashMap<>();\n",
    "int counter = 0;\n",
    "int newCounter = 0;\n",
    "\n",
    "for(int i = 0; i < str.length(); i++) {\n",
    "    if(map.containsKey(str.charAt(i))){\n",
    "        counter--;\n",
    "    } else {\n",
    "        map.put(str.charAt(i), i);\n",
    "        counter++;\n",
    "    }\n",
    "\n",
    "    if (counter > newCounter){\n",
    "        newCounter = counter;        \n",
    "    }    \n",
    "}\n",
    "\n",
    "System.out.println(newCounter);\n",
    "\n"
   ]
  },
  {
   "cell_type": "code",
   "execution_count": 59,
   "metadata": {},
   "outputs": [
    {
     "name": "stdout",
     "output_type": "stream",
     "text": [
      "\n",
      "\n",
      "abcd, efghijk\n",
      "8\n"
     ]
    }
   ],
   "source": [
    "// Time Complexity\n",
    "\n",
    "import java.util.HashMap;\n",
    "\n",
    "// String str = \"abcabcbb\";\n",
    "// String str = \"auguviutgeio\";\n",
    "\n",
    "Map<Character, Integer> map = new HashMap<>();\n",
    "\n",
    "\n",
    "int longestSubString(String str){\n",
    "    int newCounter = 0;\n",
    "    int counter = 0;\n",
    "\n",
    "    System.out.println();\n",
    "\n",
    "    for(int i = 0; i < str.length(); i++) {\n",
    "            if(!map.containsKey(str.charAt(i))) {\n",
    "                map.put(str.charAt(i), i);\n",
    "                counter++;\n",
    "\n",
    "                System.out.print(str.charAt(i) + \"\");\n",
    "            } else {\n",
    "                map.clear();\n",
    "                map.put(str.charAt(i), i);\n",
    "\n",
    "                newCounter = Math.max(newCounter, counter);\n",
    "                counter = 1;\n",
    "                System.out.print(\", \");\n",
    "            }\n",
    "    }     \n",
    "    newCounter = Math.max(newCounter, counter);\n",
    "    System.out.println();\n",
    "    return newCounter;\n",
    "}\n",
    "\n",
    "String[] testCases = {\n",
    "    \"abcabcbb\",    // Expected Output: 3\n",
    "    \"bbbbb\",        // Expected Output: 1\n",
    "    \"pwwkew\",       // Expected Output: 3\n",
    "    \"abcde\",        // Expected Output: 5\n",
    "    \"aab\",          // Expected Output: 2\n",
    "    \"\",             // Expected Output: 0\n",
    "    \"abcdabcdabcda\",// Expected Output: 4\n",
    "    \"auguviutgeio\", // Expected Output: 8\n",
    "    \"zxcvbnmasdfghjklqwertyuiopasdfghjklmnbv zx\", // Expected Output: 26\n",
    "    \"abcdefg12345@!@\" // Expected Output: 14\n",
    "};\n",
    "\n",
    "System.out.println();\n",
    "\n",
    "// for(String testCase : testCases){\n",
    "//     System.out.println(testCase + \" : \" + longestSubString(testCase));\n",
    "// }\n",
    "\n",
    "    \n",
    "\n",
    "System.out.println(longestSubString(\"abcdaefghijk\"));\n"
   ]
  },
  {
   "cell_type": "code",
   "execution_count": null,
   "metadata": {},
   "outputs": [
    {
     "name": "stdout",
     "output_type": "stream",
     "text": [
      "\n",
      "ab: 3\n",
      "bc: 3\n",
      "ca: 3\n",
      "abcbb: 2\n",
      "cb: 1\n",
      "\n",
      "abcabcbb : 5\n",
      "\n",
      ": 1\n",
      ": 1\n",
      ": 1\n",
      ": 1\n",
      "\n",
      "bbbbb : 1\n",
      "\n",
      "pwwke: 1\n",
      "wk: 3\n",
      "kee\n",
      "pwwkew : 6\n",
      "\n",
      "abcdbcdcdd\n",
      "abcde : 5\n",
      "\n",
      ": 1\n",
      "a\n",
      "aab : 2\n",
      "\n",
      " : 0\n",
      "\n",
      "abc: 4\n",
      "bcd: 4\n",
      "cda: 4\n",
      "dab: 4\n",
      "abc: 4\n",
      "bcd: 4\n",
      "cda: 4\n",
      "dab: 4\n",
      "abc: 4\n",
      "bcdcdd\n",
      "abcdabcdabcda : 4\n",
      "\n",
      "auguviutgeiu: 2\n",
      "guviu: 6\n",
      "uv: 3\n",
      "viutgeiiutg: 5\n",
      "utgeitgeigeieii\n",
      "auguviutgeio : 12\n",
      "\n",
      "zxcvbnmasdfghjklqwertyuiopasdfghjklmnbv: 40\n",
      "xcvbnmasdfghjklqwertyuiopasdfghjklmnbv : 40\n",
      "cvbnmasdfghjklqwertyuiopasdfghjklmnbv zvbnmasdfghjklqwertyuiopasdfghjklmn: 35\n",
      "bnmasdfghjklqwertyuiopasdfghjklm: 33\n",
      "nmasdfghjklqwertyuiopasdfghjkl: 31\n",
      "masdfghjklqwertyuiopasdfghjk: 29\n",
      "asdfghjklqwertyuio: 19\n",
      "sdfghjklqwertyuiop: 19\n",
      "dfghjklqwertyuiopa: 19\n",
      "fghjklqwertyuiopas: 19\n",
      "ghjklqwertyuiopasd: 19\n",
      "hjklqwertyuiopasdf: 19\n",
      "jklqwertyuiopasdfg: 19\n",
      "klqwertyuiopasdfgh: 19\n",
      "lqwertyuiopasdfghj: 19\n",
      "qwertyuiopasdfghjklmnbv zwertyuiopasdfghjklmnbv zertyuiopasdfghjklmnbv zrtyuiopasdfghjklmnbv ztyuiopasdfghjklmnbv zyuiopasdfghjklmnbv zuiopasdfghjklmnbv ziopasdfghjklmnbv zopasdfghjklmnbv zpasdfghjklmnbv zasdfghjklmnbv zsdfghjklmnbv zdfghjklmnbv zfghjklmnbv zghjklmnbv zhjklmnbv zjklmnbv zklmnbv zlmnbv zmnbv znbv zbv zv z zz\n",
      "zxcvbnmasdfghjklqwertyuiopasdfghjklmnbv zx : 40\n",
      "\n",
      "abcdefg12345@!bcdefg12345@!cdefg12345@!defg12345@!efg12345@!fg12345@!g12345@!12345@!2345@!345@!45@!5@!@: 2\n",
      "!\n",
      "abcdefg12345@!@ : 15\n"
     ]
    }
   ],
   "source": [
    "// nested loops won't work for the conditions like - \"abccddeefgha\"\n",
    "\n",
    "String str = \"abcdaefghijk\";\n",
    "// int counter = 1;\n",
    "// int newCounter = 1;\n",
    "\n",
    "int longestSubString(String str){\n",
    "    int counter = 1;\n",
    "    int newCounter = 1;\n",
    "\n",
    "    System.out.println();\n",
    "\n",
    "    if(str.length() == 0){\n",
    "        return 0;\n",
    "    }\n",
    "\n",
    "    for(int i = 0; i < str.length(); i++) {\n",
    "        for(int j = i; j < str.length() - 1; j++) {\n",
    "            if (str.charAt(i) != str.charAt(j+1)) {\n",
    "                counter++; \n",
    "                System.out.print(str.charAt(j));           \n",
    "            } else {\n",
    "                // i--;\n",
    "                System.out.print(\": \" + counter);\n",
    "                System.out.println();\n",
    "                break;\n",
    "            }\n",
    "        }\n",
    "        // System.out.println();\n",
    "        newCounter = (counter > newCounter)? counter : newCounter;\n",
    "        counter = 1;        \n",
    "    }\n",
    "\n",
    "    System.out.println();\n",
    "    return newCounter;\n",
    "}\n",
    "\n",
    "String[] testCases = {\n",
    "    \"abcabcbb\",    // Expected Output: 3\n",
    "    \"bbbbb\",        // Expected Output: 1\n",
    "    \"pwwkew\",       // Expected Output: 3\n",
    "    \"abcde\",        // Expected Output: 5\n",
    "    \"aab\",          // Expected Output: 2\n",
    "    \"\",             // Expected Output: 0\n",
    "    \"abcdabcdabcda\",// Expected Output: 4\n",
    "    \"auguviutgeio\", // Expected Output: 8\n",
    "    \"zxcvbnmasdfghjklqwertyuiopasdfghjklmnbvzx\", // Expected Output: 26\n",
    "    \"abcdefg12345@!@\" // Expected Output: 14\n",
    "};\n",
    "\n",
    "// System.out.println();\n",
    "for(String testCase : testCases){\n",
    "    System.out.println(testCase + \" : \" + longestSubString(testCase));\n",
    "}\n",
    "\n",
    "// System.out.println();\n",
    "// System.out.println(newCounter);"
   ]
  },
  {
   "cell_type": "code",
   "execution_count": null,
   "metadata": {},
   "outputs": [
    {
     "name": "stdout",
     "output_type": "stream",
     "text": [
      "{a=1}\n"
     ]
    }
   ],
   "source": [
    "HashMap<Character, Integer> map = new HashMap<>();\n",
    "map.put('a', 0);\n",
    "map.put('a', 1);\n",
    "\n",
    "System.out.println(map);"
   ]
  },
  {
   "cell_type": "code",
   "execution_count": 28,
   "metadata": {},
   "outputs": [
    {
     "name": "stdout",
     "output_type": "stream",
     "text": [
      "{a=1}\n"
     ]
    }
   ],
   "source": [
    "Map<Character, Integer> map = new HashMap<>();\n",
    "map.put('a', 0);\n",
    "map.put('a', 1);\n",
    "\n",
    "System.out.println(map);"
   ]
  }
 ],
 "metadata": {
  "kernelspec": {
   "display_name": "Java",
   "language": "java",
   "name": "java"
  },
  "language_info": {
   "codemirror_mode": "java",
   "file_extension": ".jshell",
   "mimetype": "text/x-java-source",
   "name": "java",
   "pygments_lexer": "java",
   "version": "21.0.1+12-LTS-29"
  }
 },
 "nbformat": 4,
 "nbformat_minor": 2
}

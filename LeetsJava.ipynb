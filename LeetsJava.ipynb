{
 "cells": [
  {
   "cell_type": "markdown",
   "metadata": {},
   "source": [
    "- #### `Implement the RandomizedSet class`:\n",
    "\n",
    "    - **RandomizedSet()** Initializes the RandomizedSet object.\n",
    "    - **bool insert(int val)** Inserts an item val into the set if not present. Returns true if the item was not present, false otherwise.\n",
    "    - **bool remove(int val)** Removes an item val from the set if present. Returns true if the item was present, false otherwise.\n",
    "    - **int getRandom()** Returns a random element from the current set of elements (it's guaranteed that at least one element exists when this method is called). Each element must have the same probability of being returned.\n",
    "    - You must implement the functions of the class such that each function works in average O(1) time complexity."
   ]
  },
  {
   "cell_type": "code",
   "execution_count": 5,
   "metadata": {
    "vscode": {
     "languageId": "java"
    }
   },
   "outputs": [
    {
     "name": "stdout",
     "output_type": "stream",
     "text": [
      "Map: {1=0, 2=1, 3=2, 4=3, 5=4}\n",
      "List:  [1, 2, 3, 4, 5]\n",
      "\n",
      "Map: {1=0, 2=1, 3=2, 4=3, 5=4, 7=5}\n",
      "List:  [1, 2, 3, 4, 5, 7]\n"
     ]
    }
   ],
   "source": [
    "import java.util.ArrayList;\n",
    "import java.util.HashMap;\n",
    "import java.util.Random;\n",
    "\n",
    "// class RandomizedSet {\n",
    "\n",
    "private ArrayList<Integer> nums;\n",
    "private HashMap<Integer, Integer> indexMap;\n",
    "private Random rand;\n",
    "\n",
    "// public RandomizedSet() {\n",
    "    nums = new ArrayList<>();\n",
    "    indexMap = new HashMap<>();\n",
    "    rand = new Random();\n",
    "// }\n",
    "\n",
    "public boolean insert(int val) {\n",
    "    if (indexMap.containsKey(val)) {\n",
    "        return false;  // Value already exists in the set\n",
    "    }\n",
    "    indexMap.put(val, nums.size());\n",
    "    nums.add(val);\n",
    "    return true;\n",
    "}\n",
    "\n",
    "public boolean remove(int val) {\n",
    "    if (!indexMap.containsKey(val)) {\n",
    "        return false;  // Value does not exist in the set\n",
    "    }\n",
    "    \n",
    "    // Get index of the element to be removed\n",
    "    int index = indexMap.get(val);\n",
    "    int lastElement = nums.get(nums.size() - 1);\n",
    "    \n",
    "    // Move the last element to the place of the element to delete\n",
    "    nums.set(index, lastElement);\n",
    "    indexMap.put(lastElement, index);\n",
    "    \n",
    "    // Remove the last element from the list and map\n",
    "    nums.remove(nums.size() - 1);\n",
    "    indexMap.remove(val);\n",
    "    \n",
    "    return true;\n",
    "}\n",
    "\n",
    "public int getRandom() {\n",
    "    return nums.get(rand.nextInt(nums.size()));\n",
    "}\n",
    "\n",
    "// ========================\n",
    "\n",
    "indexMap.put(1,nums.size());\n",
    "nums.add(1);\n",
    "\n",
    "indexMap.put(2,nums.size());\n",
    "nums.add(2);\n",
    "\n",
    "indexMap.put(3,nums.size());\n",
    "nums.add(3);\n",
    "\n",
    "indexMap.put(4,nums.size());\n",
    "nums.add(4);\n",
    "\n",
    "indexMap.put(5,nums.size());\n",
    "nums.add(5);\n",
    "\n",
    "System.out.println(\"Map: \" + indexMap);\n",
    "System.out.println(\"List:  \" + nums);\n",
    "\n",
    "insert(7);\n",
    "System.out.println();\n",
    "\n",
    "System.out.println(\"Map: \" + indexMap);\n",
    "System.out.println(\"List:  \" + nums);\n",
    "\n",
    "// }"
   ]
  },
  {
   "cell_type": "markdown",
   "metadata": {},
   "source": [
    "- #### ` To get a random key from a HashMap in Java, you can convert the key set to a List and then select a random element from that list`"
   ]
  },
  {
   "cell_type": "code",
   "execution_count": 6,
   "metadata": {
    "vscode": {
     "languageId": "java"
    }
   },
   "outputs": [
    {
     "name": "stdout",
     "output_type": "stream",
     "text": [
      "{1=Alice, 2=Bob, 3=Chis, 4=David, 5=Eugine, 6=Eugines}\n",
      "[1, 2, 3, 4, 5, 6]\n",
      "[Alice, Bob, Chis, David, Eugine, Eugines]\n",
      "Random Ele from List : 6\n",
      "Random Value from Map : Chis\n"
     ]
    }
   ],
   "source": [
    "import java.util.Random;\n",
    "import java.util.List;\n",
    "import java.util.ArrayList;\n",
    "import java.util.HashMap;\n",
    "\n",
    "Map<Integer,String> myMap = new HashMap<>();\n",
    "myMap.put(1, \"Alice\");\n",
    "myMap.put(2, \"Bob\");\n",
    "myMap.put(3, \"Chis\");\n",
    "myMap.put(4, \"David\");\n",
    "myMap.put(5, \"Eugine\");\n",
    "myMap.put(6, \"Eugines\");\n",
    "\n",
    "System.out.println(myMap);\n",
    "\n",
    "List<Integer> myList = new ArrayList<>(myMap.keySet());\n",
    "List<String> myList2 = new ArrayList<>(myMap.values());\n",
    "\n",
    "System.out.println(myList);\n",
    "System.out.println(myList2);\n",
    "\n",
    "Random rand = new Random();\n",
    "System.out.println(\"Random Ele from List : \" + myList.get(rand.nextInt(myList.size())));\n",
    "System.out.println(\"Random Value from Map : \" + myMap.get(myList.get(rand.nextInt(myList.size()))));\n",
    "\n"
   ]
  },
  {
   "cell_type": "markdown",
   "metadata": {},
   "source": [
    "### `Updating ele in list with indexes`"
   ]
  },
  {
   "cell_type": "code",
   "execution_count": 7,
   "metadata": {
    "vscode": {
     "languageId": "java"
    }
   },
   "outputs": [
    {
     "name": "stdout",
     "output_type": "stream",
     "text": [
      "[10, 2, 3, 4, 5]\n"
     ]
    }
   ],
   "source": [
    "import java.util.List;\n",
    "import java.util.ArrayList;\n",
    "\n",
    "List<Integer> list = new ArrayList<>();\n",
    "list.add(1);\n",
    "list.add(2);\n",
    "list.add(3);\n",
    "list.add(4);\n",
    "list.add(5);\n",
    "\n",
    "list.set(0,10);\n",
    "System.out.println(list);"
   ]
  },
  {
   "cell_type": "markdown",
   "metadata": {},
   "source": [
    "- #### `Given an integer array nums, return an array answer such that answer[i] is equal to the product of all the elements of nums except nums[i].`\n",
    "    - The product of any prefix or suffix of nums is guaranteed to fit in a 32-bit integer.\n",
    "    - You must write an algorithm that runs in O(n) time and without using the division operation.\n",
    "\n",
    "  `Ex1`:\n",
    "    ```plaintext\n",
    "    Input: nums = [1,2,3,4]\n",
    "    Output: [24,12,8,6]\n",
    "    ```\n",
    "  `Ex2`:\n",
    "    ```plaintext\n",
    "    Input: nums = [-1,1,0,-3,3]\n",
    "    Output: [0,0,9,0,0]\n",
    "    ```"
   ]
  },
  {
   "cell_type": "code",
   "execution_count": 8,
   "metadata": {
    "vscode": {
     "languageId": "java"
    }
   },
   "outputs": [
    {
     "name": "stdout",
     "output_type": "stream",
     "text": [
      "[1, 1, 2, 6]\n",
      "[24, 12, 8, 6]\n"
     ]
    }
   ],
   "source": [
    "int[] nums = {1,2,3,4};\n",
    "// int[] nums = {-1,1,0,-3,3};\n",
    "\n",
    "int[] ans = new int[nums.length];\n",
    "\n",
    "int leftProduct = 1;\n",
    "int rightProduct = 1;\n",
    "\n",
    "for(int i = 0; i < nums.length; i++) {\n",
    "    ans[i] = leftProduct;    \n",
    "    leftProduct *= nums[i];\n",
    "}\n",
    "\n",
    "System.out.println(Arrays.toString(ans));\n",
    "\n",
    "for(int i = nums.length-1; i >= 0; i--) {\n",
    "    ans[i] *= rightProduct;\n",
    "    rightProduct *= nums[i];     \n",
    "}\n",
    "System.out.println(Arrays.toString(ans));"
   ]
  },
  {
   "cell_type": "markdown",
   "metadata": {},
   "source": [
    "#### `Explaination:`\n",
    "```plaintext\n",
    "   1  1 2 6\n",
    "x 24 12 4 1\n",
    "------------\n",
    "= 24 12 8 6\n",
    "```"
   ]
  },
  {
   "cell_type": "markdown",
   "metadata": {},
   "source": [
    "##### `If the question didn't have the constraint of not using division operator then we could have used the following approach but it Won't work if Array contains 0`"
   ]
  },
  {
   "cell_type": "code",
   "execution_count": 9,
   "metadata": {
    "vscode": {
     "languageId": "java"
    }
   },
   "outputs": [
    {
     "name": "stdout",
     "output_type": "stream",
     "text": [
      "[24, 24, 24, 24]\n",
      "[24, 12, 8, 6]\n"
     ]
    }
   ],
   "source": [
    "int[] nums = {1,2,3,4};\n",
    "// int[] nums = {-1,1,0,-3,3};\n",
    "\n",
    "int[] ans = new int[nums.length];\n",
    "\n",
    "int Product = 1;\n",
    "int rightProduct = 1;\n",
    "\n",
    "for(int i = 0; i < nums.length; i++) {\n",
    "    if(nums[i] == 0){\n",
    "        continue;\n",
    "    } else {\n",
    "        Product *= nums[i];\n",
    "    }\n",
    "}\n",
    "\n",
    "for(int i = 0; i < nums.length; i++) {\n",
    "    ans[i] = Product;\n",
    "}\n",
    "\n",
    "System.out.println(Arrays.toString(ans));\n",
    "\n",
    "\n",
    "for(int i = 0; i < nums.length; i++) {\n",
    "    if(nums[i] == 0){\n",
    "        continue;\n",
    "    } else {\n",
    "        // Product *= nums[i];\n",
    "        ans[i] /= nums[i];\n",
    "    }\n",
    "}\n",
    "\n",
    "System.out.println(Arrays.toString(ans));"
   ]
  },
  {
   "cell_type": "markdown",
   "metadata": {},
   "source": [
    "\n",
    "- #### `There are n gas stations along a circular route, where the amount of gas at the ith station is gas[i].`\n",
    "    - You have a car with an unlimited gas tank and it costs cost[i] of gas to travel from the ith station to its next (i + 1)th station. You begin the journey with an empty tank at one of the gas stations.\n",
    "    - Given two integer arrays gas and cost, return the starting gas station's index if you can travel around the circuit once in the clockwise direction, otherwise return -1. If there exists a solution, it is guaranteed to be unique.\n",
    " \n",
    "\n",
    "    `Example 1:`\n",
    "    ```plaintext\n",
    "    Input: gas = [1,2,3,4,5], cost = [3,4,5,1,2]\n",
    "    Output: 3\n",
    "    Explanation:\n",
    "    Start at station 3 (index 3) and fill up with 4 unit of gas. Your tank = 0 + 4 = 4\n",
    "    Travel to station 4. Your tank = 4 - 1 + 5 = 8\n",
    "    Travel to station 0. Your tank = 8 - 2 + 1 = 7\n",
    "    Travel to station 1. Your tank = 7 - 3 + 2 = 6\n",
    "    Travel to station 2. Your tank = 6 - 4 + 3 = 5\n",
    "    Travel to station 3. The cost is 5. Your gas is just enough to travel back to station 3.\n",
    "    Therefore, return 3 as the starting index.\n",
    "    ```\n",
    "    \n",
    "    `Example 2:`\n",
    "    ```plaintext\n",
    "    Input: gas = [2,3,4], cost = [3,4,3]\n",
    "    Output: -1\n",
    "    Explanation:\n",
    "    You can't start at station 0 or 1, as there is not enough gas to travel to the next station.\n",
    "    Let's start at station 2 and fill up with 4 unit of gas. Your tank = 0 + 4 = 4\n",
    "    Travel to station 0. Your tank = 4 - 3 + 2 = 3\n",
    "    Travel to station 1. Your tank = 3 - 3 + 3 = 3\n",
    "    You cannot travel back to station 2, as it requires 4 unit of gas but you only have 3.\n",
    "    Therefore, you can't travel around the circuit once no matter where you start.\n",
    "    ```\n",
    "\n",
    "    > ![Diagram](images/gas1.png)"
   ]
  },
  {
   "cell_type": "code",
   "execution_count": 16,
   "metadata": {
    "vscode": {
     "languageId": "java"
    }
   },
   "outputs": [
    {
     "name": "stdout",
     "output_type": "stream",
     "text": [
      "totalGas: -2\n",
      "currGas: -2\n",
      "\n",
      "Checking currGas: -2\n",
      "startingStation: 1\n",
      "\n",
      "totalGas: -4\n",
      "currGas: -2\n",
      "\n",
      "Checking currGas: -2\n",
      "startingStation: 2\n",
      "\n",
      "totalGas: -6\n",
      "currGas: -2\n",
      "\n",
      "Checking currGas: -2\n",
      "startingStation: 3\n",
      "\n",
      "totalGas: -3\n",
      "currGas: 3\n",
      "\n",
      "totalGas: 0\n",
      "currGas: 6\n",
      "\n",
      "3\n"
     ]
    }
   ],
   "source": [
    "// Original Solution\n",
    "\n",
    "int[] gas = {1,2,3,4,5};\n",
    "int[] cost = {3,4,5,1,2};\n",
    "\n",
    "int totalGas = 0;\n",
    "int currentGas = 0;\n",
    "int startingStation = 0;\n",
    "\n",
    "// Step 1: Calculate total gas and identify if there is a possible solution\n",
    "for (int i = 0; i < gas.length; i++) {\n",
    "    totalGas += gas[i] - cost[i];\n",
    "    currentGas += gas[i] - cost[i];\n",
    "\n",
    "    System.out.println(\"totalGas: \" + totalGas);\n",
    "    System.out.println(\"currGas: \" + currentGas);\n",
    "    System.out.println();\n",
    "\n",
    "    // Step 2: If current gas becomes negative, reset the start station\n",
    "    if (currentGas < 0) {\n",
    "        startingStation = i + 1;\n",
    "        \n",
    "        System.out.println(\"Checking currGas: \" + currentGas);\n",
    "        System.out.println(\"startingStation: \" + startingStation);\n",
    "        System.out.println();\n",
    "\n",
    "        currentGas = 0;\n",
    "    }\n",
    "}\n",
    "\n",
    "// Step 3: If the total gas is negative, there is no solution\n",
    "// totalGas >= 0 ? startingStation : -1;\n",
    "\n",
    "if (totalGas >= 0){\n",
    "    System.out.println(startingStation);\n",
    "} else {\n",
    "    System.out.println(\"-1\");\n",
    "}"
   ]
  },
  {
   "cell_type": "code",
   "execution_count": null,
   "metadata": {
    "vscode": {
     "languageId": "java"
    }
   },
   "outputs": [
    {
     "name": "stdout",
     "output_type": "stream",
     "text": [
      "J, Start: 3, 3\n",
      "Checking i: 3\n",
      "gas index: 3\n",
      "CG, Gas, Cost = (4, 4, 1)\n",
      "currGas: 4\n",
      "Checking i: 4\n",
      "gas index: 4\n",
      "CG, Gas, Cost = (8, 5, 2)\n",
      "currGas: 8\n",
      "i resetted\n",
      "Checking i: 0\n",
      "gas index: 0\n",
      "CG, Gas, Cost = (7, 1, 3)\n",
      "currGas: 7\n",
      "Checking i: 1\n",
      "gas index: 1\n",
      "CG, Gas, Cost = (6, 2, 4)\n",
      "currGas: 6\n",
      "Checking i: 2\n",
      "gas index: 2\n",
      "CG, Gas, Cost = (5, 3, 5)\n",
      "currGas: 5\n",
      "Checking i: 3\n",
      "gas index: 3\n",
      "CG, Gas, Cost = (4, 4, 1)\n",
      "currGas: 4\n",
      "Checking i: 4\n",
      "came in return1 at: 4\n",
      "3\n"
     ]
    }
   ],
   "source": [
    "// my solution\n",
    "\n",
    "int[] gas = {1,2,3,4,5};\n",
    "int[] cost = {3,4,5,1,2};\n",
    "\n",
    "// int[] gas = {2,3,4};\n",
    "// int[] cost = {3,4,3};\n",
    "\n",
    "// int[] gas = {5,1,2,3,4};\n",
    "// int[] cost = {4,4,1,5,1};\n",
    "\n",
    "int startingIndex(int[] gas, int[] cost){\n",
    "    int startIndex = -1;\n",
    "    int len = gas.length;\n",
    "\n",
    "    for(int j = 0; j < len; j++) {\n",
    "        if (gas[j] >= cost[j]){\n",
    "            startIndex = j; \n",
    "\n",
    "        System.out.println(\"J, Start: \" + j+ \", \" + startIndex);\n",
    "\n",
    "        if (!(startIndex >= 0)){\n",
    "            return startIndex;        \n",
    "        }    \n",
    "        int currGas = 0;\n",
    "        int counter = 0;   \n",
    "    \n",
    "        for(int i = startIndex; i < len + 1; i++) {    \n",
    "            System.out.println(\"Checking i: \" + i);   \n",
    "            \n",
    "            if(!(counter < len+1)) {\n",
    "                System.out.println(\"came in return1 at: \" + i);\n",
    "                return startIndex;\n",
    "            }\n",
    "    \n",
    "            currGas += gas[i];\n",
    "            System.out.println(\"gas index: \" + (i));\n",
    "            System.out.println(\"CG, Gas, Cost = (\" + currGas + \", \" + gas[i]+ \", \"  + cost[i] + \")\");\n",
    "    \n",
    "            if (currGas >= cost[i]){\n",
    "                System.out.println(\"currGas: \" + currGas);\n",
    "                currGas -= cost[i];            \n",
    "            } else {\n",
    "                System.out.println(\"Came in Return at: \" + i);\n",
    "                return -1;\n",
    "            }\n",
    "    \n",
    "            if(i == len-1){\n",
    "                System.out.println(\"i resetted\");\n",
    "                i = -1;\n",
    "            }\n",
    "            counter++;\n",
    "        }\n",
    "    }\n",
    "    }\n",
    "    return startIndex;\n",
    "}\n",
    "System.out.println(startingIndex(gas,cost));"
   ]
  },
  {
   "cell_type": "markdown",
   "metadata": {},
   "source": [
    "- #### `There are n children standing in a line. Each child is assigned a ratings value given in the integer array ratings.`\n",
    "\n",
    "    You are giving candies to these children subjected to the following requirements:\n",
    "\n",
    "    - Each child must have at least one candy.\n",
    "    - Children with a higher ratings get more candies than their neighbors.\n",
    "    - Return the minimum number of candies you need to have to distribute the candies to the children.\n",
    "\n",
    "    `Example 1`:\n",
    "    ```plaintext\n",
    "    Input: ratings = [1,0,2]\n",
    "    Output: 5\n",
    "    Explanation: You can allocate to the first, second and third child with 2, 1, 2 candies respectively.\n",
    "    ```\n",
    "    \n",
    "    `Example 2`:\n",
    "    ```plaintext\n",
    "    Input: ratings = [1,2,2]\n",
    "    Output: 4\n",
    "    Explanation: You can allocate to the first, second and third child with 1, 2, 1 candies respectively.\n",
    "    The third child gets 1 candy because it satisfies the above two conditions.\n",
    "    ```\n",
    "    `Example 3`:\n",
    "    ```plaintext\n",
    "    Input: ratings = { 1, 3, 2, 2, 1 };\n",
    "    Ouput: 7\n",
    "    CandyArr: {1,2,1,2,1};\n",
    "    ```"
   ]
  },
  {
   "cell_type": "code",
   "execution_count": null,
   "metadata": {
    "vscode": {
     "languageId": "java"
    }
   },
   "outputs": [
    {
     "name": "stdout",
     "output_type": "stream",
     "text": [
      "7\n"
     ]
    }
   ],
   "source": [
    "// int[] ratings = {1,2,2};\n",
    "int[] ratings = {1,3,2,2,1};\n",
    "\n",
    "int MinCandies(int[] ratings){\n",
    "    int candies = 0;\n",
    "    int len = ratings.length;\n",
    "    int[] candyArr = new int[len];\n",
    "\n",
    "    for(int i = 0; i < len; i++) {\n",
    "        candyArr[i] = 1;\n",
    "    }\n",
    "\n",
    "    for(int i = 0; i < len-1; i++) {\n",
    "        if (ratings[i] < ratings[i+1]){\n",
    "            candyArr[i+1] = candyArr[i] + 1;            \n",
    "        }\n",
    "    }\n",
    "\n",
    "    // for(int i = len-1; i > 0; i--) {\n",
    "    //     if (ratings[i] < ratings[i-1]){   this wont work because we also have to consider the minimum condition,3\n",
    "    //         candyArr[i-1] += 1;            \n",
    "    //     }        \n",
    "    // }\n",
    "\n",
    "    for(int i = len-1; i > 0; i--) {\n",
    "        if (ratings[i] < ratings[i-1]){\n",
    "            candyArr[i-1] = Math.max(candyArr[i-1], candyArr[i] + 1);          \n",
    "        }        \n",
    "    }\n",
    "\n",
    "    for(int i = 0; i < len; i++) {\n",
    "        candies += candyArr[i];\n",
    "    }\n",
    "\n",
    "    return candies;\n",
    "\n",
    "}\n",
    "\n",
    "int MinimumCandies = MinCandies(ratings);\n",
    "System.out.println(MinimumCandies);\n",
    "\n",
    "// the output should be 7 but i am getting 8"
   ]
  },
  {
   "cell_type": "markdown",
   "metadata": {},
   "source": [
    "- #### `Given n non-negative integers representing an elevation map where the width of each bar is 1, compute how much water it can trap after raining.` \n",
    "\n",
    "<!-- ![Trapping Water Png](./images/TrappingWater.png) -->\n",
    "<img src=\"./images/TrappingWater.png\" style=\"max-width: 400px\"></img>\n",
    "\n",
    "`Example 1:`\n",
    "```plaintext\n",
    "Input: height = [0,1,0,2,1,0,1,3,2,1,2,1]\n",
    "Output: 6\n",
    "Explanation: The above elevation map (black section) is represented by array [0,1,0,2,1,0,1,3,2,1,2,1]. In this case, 6 units of rain water (blue section) are being trapped.\n",
    "```\n",
    "`Example 2:`\n",
    "```plaintext\n",
    "Input: height = [4,2,0,3,2,5]\n",
    "Output: 9\n",
    "```"
   ]
  },
  {
   "cell_type": "code",
   "execution_count": 2,
   "metadata": {
    "vscode": {
     "languageId": "java"
    }
   },
   "outputs": [
    {
     "name": "stdout",
     "output_type": "stream",
     "text": [
      "123\n"
     ]
    }
   ],
   "source": [
    "System.out.println(123);"
   ]
  },
  {
   "cell_type": "markdown",
   "metadata": {},
   "source": [
    "- ### Find Longest Substring Without Repeating Characters\n",
    "    - `Given a string, find the length of the longest substring without repeating characters.`\n",
    "\n",
    "`Example`:\n",
    "\n",
    "```plaintext\n",
    "Input: \"abcabcbb\"\n",
    "Output: 3 (The answer is \"abc\")\n",
    "```"
   ]
  },
  {
   "cell_type": "code",
   "execution_count": 3,
   "metadata": {
    "vscode": {
     "languageId": "java"
    }
   },
   "outputs": [
    {
     "name": "stdout",
     "output_type": "stream",
     "text": [
      "Length of longest substring: 3\n"
     ]
    }
   ],
   "source": [
    "public static int lengthOfLongestSubstring(String s) {\n",
    "    HashMap<Character, Integer> map = new HashMap<>();\n",
    "    int left = 0;\n",
    "    int maxLength = 0;\n",
    "\n",
    "    for (int right = 0; right < s.length(); right++) {\n",
    "        char currentChar = s.charAt(right);\n",
    "        if (map.containsKey(currentChar)) {\n",
    "            left = Math.max(left, map.get(currentChar) + 1);\n",
    "        }\n",
    "\n",
    "        map.put(currentChar, right);\n",
    "        maxLength = Math.max(maxLength, right - left + 1);\n",
    "    }\n",
    "    return maxLength;\n",
    "}\n",
    "\n",
    "String input = \"abcabcbb\";\n",
    "System.out.println(\"Length of longest substring: \" + lengthOfLongestSubstring(input)); // Output: 3"
   ]
  }
 ],
 "metadata": {
  "kernelspec": {
   "display_name": "Java",
   "language": "java",
   "name": "java"
  },
  "language_info": {
   "codemirror_mode": "java",
   "file_extension": ".jshell",
   "mimetype": "text/x-java-source",
   "name": "Java",
   "pygments_lexer": "java",
   "version": "21.0.1+12-LTS-29"
  }
 },
 "nbformat": 4,
 "nbformat_minor": 2
}

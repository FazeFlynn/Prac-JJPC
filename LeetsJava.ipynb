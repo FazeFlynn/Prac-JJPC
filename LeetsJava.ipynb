{
 "cells": [
  {
   "cell_type": "markdown",
   "metadata": {},
   "source": [
    "- #### `Implement the RandomizedSet class`:\n",
    "\n",
    "    - **RandomizedSet()** Initializes the RandomizedSet object.\n",
    "    - **bool insert(int val)** Inserts an item val into the set if not present. Returns true if the item was not present, false otherwise.\n",
    "    - **bool remove(int val)** Removes an item val from the set if present. Returns true if the item was present, false otherwise.\n",
    "    - **int getRandom()** Returns a random element from the current set of elements (it's guaranteed that at least one element exists when this method is called). Each element must have the same probability of being returned.\n",
    "    - You must implement the functions of the class such that each function works in average O(1) time complexity."
   ]
  },
  {
   "cell_type": "code",
   "execution_count": 146,
   "metadata": {
    "vscode": {
     "languageId": "java"
    }
   },
   "outputs": [
    {
     "name": "stdout",
     "output_type": "stream",
     "text": [
      "Map: {1=0, 2=1, 3=2, 4=3, 5=4}\n",
      "List:  [1, 2, 3, 4, 5]\n",
      "\n",
      "Map: {1=0, 2=1, 3=2, 4=3, 5=4, 7=5}\n",
      "List:  [1, 2, 3, 4, 5, 7]\n"
     ]
    }
   ],
   "source": [
    "import java.util.ArrayList;\n",
    "import java.util.HashMap;\n",
    "import java.util.Random;\n",
    "\n",
    "// class RandomizedSet {\n",
    "\n",
    "private ArrayList<Integer> nums;\n",
    "private HashMap<Integer, Integer> indexMap;\n",
    "private Random rand;\n",
    "\n",
    "// public RandomizedSet() {\n",
    "    nums = new ArrayList<>();\n",
    "    indexMap = new HashMap<>();\n",
    "    rand = new Random();\n",
    "// }\n",
    "\n",
    "public boolean insert(int val) {\n",
    "    if (indexMap.containsKey(val)) {\n",
    "        return false;  // Value already exists in the set\n",
    "    }\n",
    "    indexMap.put(val, nums.size());\n",
    "    nums.add(val);\n",
    "    return true;\n",
    "}\n",
    "\n",
    "public boolean remove(int val) {\n",
    "    if (!indexMap.containsKey(val)) {\n",
    "        return false;  // Value does not exist in the set\n",
    "    }\n",
    "    \n",
    "    // Get index of the element to be removed\n",
    "    int index = indexMap.get(val);\n",
    "    int lastElement = nums.get(nums.size() - 1);\n",
    "    \n",
    "    // Move the last element to the place of the element to delete\n",
    "    nums.set(index, lastElement);\n",
    "    indexMap.put(lastElement, index);\n",
    "    \n",
    "    // Remove the last element from the list and map\n",
    "    nums.remove(nums.size() - 1);\n",
    "    indexMap.remove(val);\n",
    "    \n",
    "    return true;\n",
    "}\n",
    "\n",
    "public int getRandom() {\n",
    "    return nums.get(rand.nextInt(nums.size()));\n",
    "}\n",
    "\n",
    "// ========================\n",
    "\n",
    "indexMap.put(1,nums.size());\n",
    "nums.add(1);\n",
    "\n",
    "indexMap.put(2,nums.size());\n",
    "nums.add(2);\n",
    "\n",
    "indexMap.put(3,nums.size());\n",
    "nums.add(3);\n",
    "\n",
    "indexMap.put(4,nums.size());\n",
    "nums.add(4);\n",
    "\n",
    "indexMap.put(5,nums.size());\n",
    "nums.add(5);\n",
    "\n",
    "System.out.println(\"Map: \" + indexMap);\n",
    "System.out.println(\"List:  \" + nums);\n",
    "\n",
    "insert(7);\n",
    "System.out.println();\n",
    "\n",
    "System.out.println(\"Map: \" + indexMap);\n",
    "System.out.println(\"List:  \" + nums);\n",
    "\n",
    "// }"
   ]
  },
  {
   "cell_type": "markdown",
   "metadata": {},
   "source": [
    "- #### ` To get a random key from a HashMap in Java, you can convert the key set to a List and then select a random element from that list`"
   ]
  },
  {
   "cell_type": "code",
   "execution_count": 131,
   "metadata": {
    "vscode": {
     "languageId": "java"
    }
   },
   "outputs": [
    {
     "name": "stdout",
     "output_type": "stream",
     "text": [
      "{1=Alice, 2=Bob, 3=Chis, 4=David, 5=Eugine, 6=Eugines}\n",
      "[1, 2, 3, 4, 5, 6]\n",
      "[Alice, Bob, Chis, David, Eugine, Eugines]\n",
      "Random Ele from List : 1\n",
      "Random Value from Map : Eugine\n"
     ]
    }
   ],
   "source": [
    "import java.util.Random;\n",
    "import java.util.List;\n",
    "import java.util.ArrayList;\n",
    "import java.util.HashMap;\n",
    "\n",
    "Map<Integer,String> myMap = new HashMap<>();\n",
    "myMap.put(1, \"Alice\");\n",
    "myMap.put(2, \"Bob\");\n",
    "myMap.put(3, \"Chis\");\n",
    "myMap.put(4, \"David\");\n",
    "myMap.put(5, \"Eugine\");\n",
    "myMap.put(6, \"Eugines\");\n",
    "\n",
    "System.out.println(myMap);\n",
    "\n",
    "List<Integer> myList = new ArrayList<>(myMap.keySet());\n",
    "List<String> myList2 = new ArrayList<>(myMap.values());\n",
    "\n",
    "System.out.println(myList);\n",
    "System.out.println(myList2);\n",
    "\n",
    "Random rand = new Random();\n",
    "System.out.println(\"Random Ele from List : \" + myList.get(rand.nextInt(myList.size())));\n",
    "System.out.println(\"Random Value from Map : \" + myMap.get(myList.get(rand.nextInt(myList.size()))));\n",
    "\n"
   ]
  },
  {
   "cell_type": "markdown",
   "metadata": {},
   "source": [
    "### `Updating ele in list with indexes`"
   ]
  },
  {
   "cell_type": "code",
   "execution_count": 136,
   "metadata": {
    "vscode": {
     "languageId": "java"
    }
   },
   "outputs": [
    {
     "name": "stdout",
     "output_type": "stream",
     "text": [
      "[10, 2, 3, 4, 5]\n"
     ]
    }
   ],
   "source": [
    "import java.util.List;\n",
    "import java.util.ArrayList;\n",
    "\n",
    "List<Integer> list = new ArrayList<>();\n",
    "list.add(1);\n",
    "list.add(2);\n",
    "list.add(3);\n",
    "list.add(4);\n",
    "list.add(5);\n",
    "\n",
    "list.set(0,10);\n",
    "System.out.println(list);"
   ]
  }
 ],
 "metadata": {
  "kernelspec": {
   "display_name": "Java",
   "language": "java",
   "name": "java"
  },
  "language_info": {
   "codemirror_mode": "java",
   "file_extension": ".jshell",
   "mimetype": "text/x-java-source",
   "name": "Java",
   "pygments_lexer": "java",
   "version": "21.0.1+12-LTS-29"
  }
 },
 "nbformat": 4,
 "nbformat_minor": 2
}

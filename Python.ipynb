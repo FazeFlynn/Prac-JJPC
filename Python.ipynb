{
 "cells": [
  {
   "cell_type": "code",
   "execution_count": 3,
   "metadata": {},
   "outputs": [
    {
     "name": "stdout",
     "output_type": "stream",
     "text": [
      "['H', 'e', 'l', 'l', 'o']\n",
      "<class 'list'>\n"
     ]
    }
   ],
   "source": [
    "arr = list(\"Hello\")\n",
    "\n",
    "print(arr)\n",
    "print(type(arr))"
   ]
  },
  {
   "cell_type": "code",
   "execution_count": 3,
   "metadata": {},
   "outputs": [
    {
     "name": "stdout",
     "output_type": "stream",
     "text": [
      "1010\n"
     ]
    }
   ],
   "source": [
    "# To get Binary\n",
    "num = 10\n",
    "binary = bin(num)[2:]  # Removes the \"0b\" prefix\n",
    "print(binary)  # Output: \"1010\""
   ]
  },
  {
   "cell_type": "markdown",
   "metadata": {},
   "source": [
    "## Formatting String and Numbers"
   ]
  },
  {
   "cell_type": "code",
   "execution_count": 30,
   "metadata": {},
   "outputs": [
    {
     "name": "stdout",
     "output_type": "stream",
     "text": [
      "00005\n"
     ]
    }
   ],
   "source": [
    "# For Strings\n",
    "num = \"5\"\n",
    "padded = num.zfill(5)\n",
    "print(padded)  # Output: \"005\""
   ]
  },
  {
   "cell_type": "code",
   "execution_count": 31,
   "metadata": {},
   "outputs": [
    {
     "name": "stdout",
     "output_type": "stream",
     "text": [
      "00005\n"
     ]
    }
   ],
   "source": [
    "# For Numbers\n",
    "num = 5\n",
    "padded = \"{:05}\".format(num)  # Pads with zeros to length 5\n",
    "print(padded)  # Output: \"00005\""
   ]
  },
  {
   "cell_type": "code",
   "execution_count": 33,
   "metadata": {},
   "outputs": [
    {
     "name": "stdout",
     "output_type": "stream",
     "text": [
      "005\n"
     ]
    }
   ],
   "source": [
    "num = 5\n",
    "padded = f\"{num:03}\"  # Pads with zeros to length 3\n",
    "print(padded)  # Output: \"005\""
   ]
  },
  {
   "cell_type": "code",
   "execution_count": 23,
   "metadata": {},
   "outputs": [
    {
     "data": {
      "text/plain": [
       "'2:11:20'"
      ]
     },
     "execution_count": 23,
     "metadata": {},
     "output_type": "execute_result"
    }
   ],
   "source": [
    "timestamp = \"2:10:30\"\n",
    "times = timestamp.split(\":\")\n",
    "offset = 50\n",
    "times\n",
    "\n",
    "hr = int(times[0])\n",
    "mn = int(times[1])\n",
    "ss = int(times[2])\n",
    "\n",
    "totalSec = (hr*3600) + (mn*60) + (ss)\n",
    "totalSec += offset\n",
    "totalSec\n",
    "\n",
    "hr = totalSec//3600\n",
    "totalSec %= 3600\n",
    "totalSec\n",
    "\n",
    "mn = totalSec//60\n",
    "totalSec %= 60\n",
    "totalSec\n",
    "\n",
    "ss = totalSec\n",
    "\n",
    "newTime = str(hr) + \":\" + str(mn) + \":\" + str(ss)\n",
    "newTime"
   ]
  }
 ],
 "metadata": {
  "kernelspec": {
   "display_name": "Python 3",
   "language": "python",
   "name": "python3"
  },
  "language_info": {
   "codemirror_mode": {
    "name": "ipython",
    "version": 3
   },
   "file_extension": ".py",
   "mimetype": "text/x-python",
   "name": "python",
   "nbconvert_exporter": "python",
   "pygments_lexer": "ipython3",
   "version": "3.12.0"
  }
 },
 "nbformat": 4,
 "nbformat_minor": 2
}

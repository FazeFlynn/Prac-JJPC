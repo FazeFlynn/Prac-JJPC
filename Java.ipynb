{
 "cells": [
  {
   "cell_type": "markdown",
   "metadata": {},
   "source": [
    "#### `Splitting String and Storing it into an array`"
   ]
  },
  {
   "cell_type": "code",
   "execution_count": 7,
   "metadata": {
    "vscode": {
     "languageId": "java"
    }
   },
   "outputs": [
    {
     "name": "stdout",
     "output_type": "stream",
     "text": [
      "true\n"
     ]
    },
    {
     "data": {
      "text/plain": [
       "[hello, this, is, java, and, idk]"
      ]
     },
     "execution_count": 7,
     "metadata": {},
     "output_type": "execute_result"
    }
   ],
   "source": [
    "String mystr = \"hello this is java and idk\";\n",
    "String[] arr = mystr.split(\" \");\n",
    "System.out.println(arr instanceof Object);\n",
    "Arrays.toString(arr)"
   ]
  },
  {
   "cell_type": "markdown",
   "metadata": {},
   "source": [
    "#### `Map filter Reduce in Java`"
   ]
  },
  {
   "cell_type": "code",
   "execution_count": 12,
   "metadata": {
    "vscode": {
     "languageId": "java"
    }
   },
   "outputs": [
    {
     "name": "stdout",
     "output_type": "stream",
     "text": [
      "[1, 4, 9, 16]\n"
     ]
    }
   ],
   "source": [
    "Integer[] numbers = {1, 2, 3, 4};\n",
    "Integer[] squares = Arrays.stream(numbers)\n",
    "                          .map(x -> x * x)\n",
    "                          .toArray(Integer[]::new);\n",
    "System.out.println(Arrays.toString(squares)); // Output: [1, 4, 9, 16]"
   ]
  },
  {
   "cell_type": "code",
   "execution_count": null,
   "metadata": {
    "vscode": {
     "languageId": "java"
    }
   },
   "outputs": [],
   "source": [
    "// Using int\n",
    "int[] numbers = {1, 2, 3, 4}; \n",
    "int[] squares = Arrays.stream(numbers) // Works directly with int[]\n",
    "                      .map(x -> x * x) // x is treated as int\n",
    "                      .toArray(); \n",
    "Arrays.toString(squares);"
   ]
  },
  {
   "cell_type": "code",
   "execution_count": 8,
   "metadata": {
    "vscode": {
     "languageId": "java"
    }
   },
   "outputs": [
    {
     "name": "stdout",
     "output_type": "stream",
     "text": [
      "[2, 4]\n"
     ]
    }
   ],
   "source": [
    "import java.util.List;\n",
    "import java.util.Arrays;\n",
    "import java.util.stream.Collectors;\n",
    "\n",
    "List<Integer> numbers = Arrays.asList(1, 2, 3, 4, 5);\n",
    "List<Integer> evens = numbers.stream()\n",
    "                                    .filter(x -> x % 2 == 0)\n",
    "                                    .collect(Collectors.toList());\n",
    "System.out.println(evens);"
   ]
  },
  {
   "cell_type": "code",
   "execution_count": 10,
   "metadata": {
    "vscode": {
     "languageId": "java"
    }
   },
   "outputs": [
    {
     "name": "stdout",
     "output_type": "stream",
     "text": [
      "10\n"
     ]
    }
   ],
   "source": [
    "Integer[] numbers = {1, 2, 3, 4};\n",
    "int sum = Arrays.stream(numbers).reduce(0, (acc, x) -> acc + x);\n",
    "System.out.println(sum); // Output: 10"
   ]
  },
  {
   "cell_type": "code",
   "execution_count": 17,
   "metadata": {
    "vscode": {
     "languageId": "java"
    }
   },
   "outputs": [
    {
     "name": "stdout",
     "output_type": "stream",
     "text": [
      "10\n"
     ]
    }
   ],
   "source": [
    "// Using int\n",
    "int[] numbers = {1, 2, 3, 4};\n",
    "int sum = Arrays.stream(numbers).reduce(0, (acc, x) -> acc + x);\n",
    "System.out.println(sum); // Output: 10"
   ]
  },
  {
   "cell_type": "markdown",
   "metadata": {},
   "source": [
    "### `Other Operations`"
   ]
  },
  {
   "cell_type": "code",
   "execution_count": 8,
   "metadata": {
    "vscode": {
     "languageId": "java"
    }
   },
   "outputs": [
    {
     "name": "stdout",
     "output_type": "stream",
     "text": [
      "Distinct Numbers: [1, 2, 3, 4, 5]\n"
     ]
    }
   ],
   "source": [
    "import java.util.stream.Collectors;\n",
    "\n",
    "List<Integer> numbers = Arrays.asList(1, 2, 2, 3, 3, 4, 5);\n",
    "List<Integer> distinctNumbers = numbers.stream()\n",
    "                                       .distinct()\n",
    "                                       .collect(Collectors.toList());\n",
    "System.out.println(\"Distinct Numbers: \" + distinctNumbers);"
   ]
  },
  {
   "cell_type": "code",
   "execution_count": 24,
   "metadata": {
    "vscode": {
     "languageId": "java"
    }
   },
   "outputs": [
    {
     "name": "stdout",
     "output_type": "stream",
     "text": [
      "Sorted Numbers: [1, 2, 3, 5, 9]\n"
     ]
    }
   ],
   "source": [
    "import java.util.stream.Collectors;\n",
    "\n",
    "List<Integer> numbers = Arrays.asList(5, 1, 3, 9, 2);\n",
    "List<Integer> sortedNumbers = numbers.stream()\n",
    "                                     .sorted()\n",
    "                                     .collect(Collectors.toList());\n",
    "System.out.println(\"Sorted Numbers: \" + sortedNumbers);"
   ]
  },
  {
   "cell_type": "code",
   "execution_count": 21,
   "metadata": {
    "vscode": {
     "languageId": "java"
    }
   },
   "outputs": [
    {
     "name": "stdout",
     "output_type": "stream",
     "text": [
      "Unique Names: [Bob, Alice, Charlie]\n"
     ]
    }
   ],
   "source": [
    "import java.util.stream.Collectors;\n",
    "\n",
    "List<String> names = Arrays.asList(\"Alice\", \"Bob\", \"Charlie\", \"Alice\");\n",
    "Set<String> uniqueNames = names.stream()\n",
    "                               .collect(Collectors.toSet());\n",
    "System.out.println(\"Unique Names: \" + uniqueNames);"
   ]
  },
  {
   "cell_type": "code",
   "execution_count": 1,
   "metadata": {
    "vscode": {
     "languageId": "java"
    }
   },
   "outputs": [
    {
     "name": "stdout",
     "output_type": "stream",
     "text": [
      "Hours: 1\n",
      "Minutes: 10\n",
      "Seconds: 20\n"
     ]
    }
   ],
   "source": [
    "String timestamp = \"1:10:20\";\n",
    "String[] timeParts = timestamp.split(\":\");\n",
    "int hours = Integer.parseInt(timeParts[0]);\n",
    "int minutes = Integer.parseInt(timeParts[1]);\n",
    "int seconds = Integer.parseInt(timeParts[2]);\n",
    "System.out.println(\"Hours: \" + hours);\n",
    "System.out.println(\"Minutes: \" + minutes);\n",
    "System.out.println(\"Seconds: \" + seconds);"
   ]
  },
  {
   "cell_type": "code",
   "execution_count": 35,
   "metadata": {
    "vscode": {
     "languageId": "java"
    }
   },
   "outputs": [
    {
     "name": "stdout",
     "output_type": "stream",
     "text": [
      "Hours: 1\n",
      "Minutes: 10\n",
      "Seconds: 20\n"
     ]
    }
   ],
   "source": [
    "import java.time.LocalTime;\n",
    "import java.time.format.DateTimeParseException;\n",
    "\n",
    "String timestamp = \"01:10:20\";\n",
    "int hours;\n",
    "int minutes;\n",
    "int seconds;\n",
    "try {\n",
    "    LocalTime time = LocalTime.parse(timestamp);\n",
    "    hours = time.getHour();\n",
    "    minutes = time.getMinute();\n",
    "    seconds = time.getSecond();\n",
    "    System.out.println(\"Hours: \" + hours);\n",
    "    System.out.println(\"Minutes: \" + minutes);\n",
    "    System.out.println(\"Seconds: \" + seconds);\n",
    "} catch (DateTimeParseException e) {\n",
    "    System.out.println(\"Invalid time format: \" + e.getMessage());\n",
    "}\n"
   ]
  },
  {
   "cell_type": "code",
   "execution_count": 2,
   "metadata": {
    "vscode": {
     "languageId": "java"
    }
   },
   "outputs": [
    {
     "name": "stdout",
     "output_type": "stream",
     "text": [
      "1010\n"
     ]
    }
   ],
   "source": [
    "// Find Binary of any num\n",
    "int num = 10;\n",
    "String binary = Integer.toBinaryString(num);\n",
    "System.out.println(binary);  "
   ]
  },
  {
   "cell_type": "markdown",
   "metadata": {},
   "source": [
    "## Formatting Numbers and Strings in Java"
   ]
  },
  {
   "cell_type": "code",
   "execution_count": 3,
   "metadata": {
    "vscode": {
     "languageId": "java"
    }
   },
   "outputs": [
    {
     "name": "stdout",
     "output_type": "stream",
     "text": [
      "005\n"
     ]
    }
   ],
   "source": [
    "int num = 5;\n",
    "String padded = String.format(\"%03d\", num);  // Pads to length 3 with \"0\"\n",
    "System.out.println(padded);  // Output: \"005\""
   ]
  },
  {
   "cell_type": "markdown",
   "metadata": {},
   "source": [
    "- %: This indicates that what follows is a format specifier.\n",
    "- 0: This is the padding character. The 0 means that the number should be padded with zeros.\n",
    "- 3: This specifies the width of the output. It ensures that the resulting string will be at least 3 characters long. If the number is shorter, it will be padded with zeros on the left.\n",
    "- d: This stands for \"decimal integer.\" It tells String.format() that the value being formatted is an integer."
   ]
  }
 ],
 "metadata": {
  "kernelspec": {
   "display_name": "Java",
   "language": "java",
   "name": "java"
  },
  "language_info": {
   "codemirror_mode": "java",
   "file_extension": ".jshell",
   "mimetype": "text/x-java-source",
   "name": "Java",
   "pygments_lexer": "java",
   "version": "21.0.1+12-LTS-29"
  }
 },
 "nbformat": 4,
 "nbformat_minor": 2
}

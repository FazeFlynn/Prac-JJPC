{
 "cells": [
  {
   "cell_type": "markdown",
   "metadata": {},
   "source": [
    "#### `Splitting String and Storing it into an array`"
   ]
  },
  {
   "cell_type": "code",
   "execution_count": 173,
   "metadata": {
    "vscode": {
     "languageId": "java"
    }
   },
   "outputs": [
    {
     "name": "stdout",
     "output_type": "stream",
     "text": [
      "true\n"
     ]
    },
    {
     "data": {
      "text/plain": [
       "[hello, this, is, java, and, idk]"
      ]
     },
     "execution_count": 173,
     "metadata": {},
     "output_type": "execute_result"
    }
   ],
   "source": [
    "String mystr = \"hello this is java and idk\";\n",
    "String[] arr = mystr.split(\" \");\n",
    "System.out.println(arr instanceof Object);\n",
    "Arrays.toString(arr)"
   ]
  },
  {
   "cell_type": "markdown",
   "metadata": {},
   "source": [
    "#### `Map filter Reduce in Java`"
   ]
  },
  {
   "cell_type": "code",
   "execution_count": 174,
   "metadata": {
    "vscode": {
     "languageId": "java"
    }
   },
   "outputs": [
    {
     "name": "stdout",
     "output_type": "stream",
     "text": [
      "[1, 4, 9, 16]\n"
     ]
    }
   ],
   "source": [
    "Integer[] numbers = {1, 2, 3, 4};\n",
    "Integer[] squares = Arrays.stream(numbers)\n",
    "                          .map(x -> x * x)\n",
    "                          .toArray(Integer[]::new);\n",
    "System.out.println(Arrays.toString(squares));"
   ]
  },
  {
   "cell_type": "code",
   "execution_count": 175,
   "metadata": {
    "vscode": {
     "languageId": "java"
    }
   },
   "outputs": [
    {
     "data": {
      "text/plain": [
       "[1, 4, 9, 16]"
      ]
     },
     "execution_count": 175,
     "metadata": {},
     "output_type": "execute_result"
    }
   ],
   "source": [
    "// Using int\n",
    "int[] numbers = {1, 2, 3, 4}; \n",
    "int[] squares = Arrays.stream(numbers)\n",
    "                      .map(x -> x * x)\n",
    "                      .toArray(); \n",
    "Arrays.toString(squares);"
   ]
  },
  {
   "cell_type": "code",
   "execution_count": 176,
   "metadata": {
    "vscode": {
     "languageId": "java"
    }
   },
   "outputs": [
    {
     "name": "stdout",
     "output_type": "stream",
     "text": [
      "[2, 4]\n"
     ]
    }
   ],
   "source": [
    "import java.util.List;\n",
    "import java.util.Arrays;\n",
    "import java.util.stream.Collectors;\n",
    "\n",
    "List<Integer> numbers = Arrays.asList(1, 2, 3, 4, 5);\n",
    "List<Integer> evens = numbers.stream()\n",
    "                                    .filter(x -> x % 2 == 0)\n",
    "                                    .collect(Collectors.toList());\n",
    "System.out.println(evens);"
   ]
  },
  {
   "cell_type": "code",
   "execution_count": 177,
   "metadata": {
    "vscode": {
     "languageId": "java"
    }
   },
   "outputs": [
    {
     "name": "stdout",
     "output_type": "stream",
     "text": [
      "10\n"
     ]
    }
   ],
   "source": [
    "Integer[] numbers = {1, 2, 3, 4};\n",
    "int sum = Arrays.stream(numbers).reduce(0, (acc, x) -> acc + x);\n",
    "System.out.println(sum); // Output: 10"
   ]
  },
  {
   "cell_type": "code",
   "execution_count": 178,
   "metadata": {
    "vscode": {
     "languageId": "java"
    }
   },
   "outputs": [
    {
     "name": "stdout",
     "output_type": "stream",
     "text": [
      "10\n"
     ]
    }
   ],
   "source": [
    "// Using int\n",
    "int[] numbers = {1, 2, 3, 4};\n",
    "int sum = Arrays.stream(numbers).reduce(0, (acc, x) -> acc + x);\n",
    "System.out.println(sum); // Output: 10"
   ]
  },
  {
   "cell_type": "markdown",
   "metadata": {},
   "source": [
    "### `Other Operations`"
   ]
  },
  {
   "cell_type": "code",
   "execution_count": 179,
   "metadata": {
    "vscode": {
     "languageId": "java"
    }
   },
   "outputs": [
    {
     "name": "stdout",
     "output_type": "stream",
     "text": [
      "Distinct Numbers: [1, 2, 3, 4, 5]\n"
     ]
    }
   ],
   "source": [
    "import java.util.stream.Collectors;\n",
    "\n",
    "List<Integer> numbers = Arrays.asList(1, 2, 2, 3, 3, 4, 5);\n",
    "List<Integer> distinctNumbers = numbers.stream()\n",
    "                                       .distinct()\n",
    "                                       .collect(Collectors.toList());\n",
    "System.out.println(\"Distinct Numbers: \" + distinctNumbers);"
   ]
  },
  {
   "cell_type": "code",
   "execution_count": 180,
   "metadata": {
    "vscode": {
     "languageId": "java"
    }
   },
   "outputs": [
    {
     "name": "stdout",
     "output_type": "stream",
     "text": [
      "Sorted Numbers: [1, 2, 3, 5, 9]\n"
     ]
    }
   ],
   "source": [
    "import java.util.stream.Collectors;\n",
    "\n",
    "List<Integer> numbers = Arrays.asList(5, 1, 3, 9, 2);\n",
    "List<Integer> sortedNumbers = numbers.stream()\n",
    "                                     .sorted()\n",
    "                                     .collect(Collectors.toList());\n",
    "System.out.println(\"Sorted Numbers: \" + sortedNumbers);"
   ]
  },
  {
   "cell_type": "code",
   "execution_count": 181,
   "metadata": {
    "vscode": {
     "languageId": "java"
    }
   },
   "outputs": [
    {
     "name": "stdout",
     "output_type": "stream",
     "text": [
      "Unique Names: [Bob, Alice, Charlie]\n"
     ]
    }
   ],
   "source": [
    "import java.util.stream.Collectors;\n",
    "\n",
    "List<String> names = Arrays.asList(\"Alice\", \"Bob\", \"Charlie\", \"Alice\");\n",
    "Set<String> uniqueNames = names.stream()\n",
    "                               .collect(Collectors.toSet());\n",
    "System.out.println(\"Unique Names: \" + uniqueNames);"
   ]
  },
  {
   "cell_type": "code",
   "execution_count": 182,
   "metadata": {
    "vscode": {
     "languageId": "java"
    }
   },
   "outputs": [
    {
     "name": "stdout",
     "output_type": "stream",
     "text": [
      "Hours: 1\n",
      "Minutes: 10\n",
      "Seconds: 20\n"
     ]
    }
   ],
   "source": [
    "String timestamp = \"1:10:20\";\n",
    "String[] timeParts = timestamp.split(\":\");\n",
    "int hours = Integer.parseInt(timeParts[0]);\n",
    "int minutes = Integer.parseInt(timeParts[1]);\n",
    "int seconds = Integer.parseInt(timeParts[2]);\n",
    "System.out.println(\"Hours: \" + hours);\n",
    "System.out.println(\"Minutes: \" + minutes);\n",
    "System.out.println(\"Seconds: \" + seconds);"
   ]
  },
  {
   "cell_type": "code",
   "execution_count": 183,
   "metadata": {
    "vscode": {
     "languageId": "java"
    }
   },
   "outputs": [
    {
     "name": "stdout",
     "output_type": "stream",
     "text": [
      "Hours: 1\n",
      "Minutes: 10\n",
      "Seconds: 20\n"
     ]
    }
   ],
   "source": [
    "import java.time.LocalTime;\n",
    "import java.time.format.DateTimeParseException;\n",
    "\n",
    "String timestamp = \"01:10:20\";\n",
    "int hours;\n",
    "int minutes;\n",
    "int seconds;\n",
    "try {\n",
    "    LocalTime time = LocalTime.parse(timestamp);\n",
    "    hours = time.getHour();\n",
    "    minutes = time.getMinute();\n",
    "    seconds = time.getSecond();\n",
    "    System.out.println(\"Hours: \" + hours);\n",
    "    System.out.println(\"Minutes: \" + minutes);\n",
    "    System.out.println(\"Seconds: \" + seconds);\n",
    "} catch (DateTimeParseException e) {\n",
    "    System.out.println(\"Invalid time format: \" + e.getMessage());\n",
    "}\n"
   ]
  },
  {
   "cell_type": "code",
   "execution_count": 184,
   "metadata": {
    "vscode": {
     "languageId": "java"
    }
   },
   "outputs": [
    {
     "name": "stdout",
     "output_type": "stream",
     "text": [
      "1010\n"
     ]
    }
   ],
   "source": [
    "// Find Binary of any num\n",
    "int num = 10;\n",
    "String binary = Integer.toBinaryString(num);\n",
    "System.out.println(binary);  "
   ]
  },
  {
   "cell_type": "markdown",
   "metadata": {},
   "source": [
    "## Formatting Numbers and Strings in Java"
   ]
  },
  {
   "cell_type": "code",
   "execution_count": 185,
   "metadata": {
    "vscode": {
     "languageId": "java"
    }
   },
   "outputs": [
    {
     "name": "stdout",
     "output_type": "stream",
     "text": [
      "005\n"
     ]
    }
   ],
   "source": [
    "int num = 5;\n",
    "String padded = String.format(\"%03d\", num);\n",
    "System.out.println(padded);"
   ]
  },
  {
   "cell_type": "markdown",
   "metadata": {},
   "source": [
    "- %: This indicates that what follows is a format specifier.\n",
    "- 0: This is the padding character. The 0 means that the number should be padded with zeros.\n",
    "- 3: This specifies the width of the output. It ensures that the resulting string will be at least 3 characters long. If the number is shorter, it will be padded with zeros on the left.\n",
    "- d: This stands for \"decimal integer.\" It tells String.format() that the value being formatted is an integer."
   ]
  },
  {
   "cell_type": "markdown",
   "metadata": {},
   "source": [
    "# Streams for Collections"
   ]
  },
  {
   "cell_type": "code",
   "execution_count": 186,
   "metadata": {
    "vscode": {
     "languageId": "java"
    }
   },
   "outputs": [
    {
     "data": {
      "text/plain": [
       "Alice-Bob-Charlie-Alice"
      ]
     },
     "execution_count": 186,
     "metadata": {},
     "output_type": "execute_result"
    }
   ],
   "source": [
    "import java.util.Arrays;  \n",
    "import java.util.List;  \n",
    "import java.util.stream.Collectors;\n",
    "\n",
    "List<String> names = Arrays.asList(\"Alice\", \"Bob\", \"Charlie\", \"Alice\");        \n",
    "String result = names.stream().collect(Collectors.joining(\"-\"));\n",
    "result;\n"
   ]
  },
  {
   "cell_type": "code",
   "execution_count": 187,
   "metadata": {
    "vscode": {
     "languageId": "java"
    }
   },
   "outputs": [
    {
     "data": {
      "text/plain": [
       "4"
      ]
     },
     "execution_count": 187,
     "metadata": {},
     "output_type": "execute_result"
    }
   ],
   "source": [
    "import java.util.Arrays;  \n",
    "import java.util.List;  \n",
    "import java.util.stream.Collectors;\n",
    "\n",
    "List<String> names = Arrays.asList(\"Alice\", \"Bob\", \"Charlie\", \"Alice\");        \n",
    "long count = names.stream().collect(Collectors.counting());\n",
    "count;"
   ]
  },
  {
   "cell_type": "code",
   "execution_count": 188,
   "metadata": {
    "vscode": {
     "languageId": "java"
    }
   },
   "outputs": [
    {
     "name": "stdout",
     "output_type": "stream",
     "text": [
      "Name: Bob, Count: 2\n",
      "Name: Alice, Count: 3\n",
      "Name: Charlie, Count: 1\n",
      "Name: David, Count: 1\n"
     ]
    }
   ],
   "source": [
    "List<String> names = Arrays.asList(\"Alice\", \"Bob\", \"Charlie\", \"Alice\", \"David\", \"Bob\", \"Alice\");\n",
    "// Count the number of occurrences of each name using the counting() collector\n",
    "Map<String, Long> nameCount = names.stream().collect(Collectors.groupingBy(name -> name, Collectors.counting()));\n",
    "// Print the count of each name\n",
    "nameCount.forEach((name, count) -> System.out.println(\"Name: \" + name + \", Count: \" + count));"
   ]
  },
  {
   "cell_type": "code",
   "execution_count": 189,
   "metadata": {
    "vscode": {
     "languageId": "java"
    }
   },
   "outputs": [
    {
     "data": {
      "text/plain": [
       "IntSummaryStatistics{count=5, sum=15, min=1, average=3.000000, max=5}"
      ]
     },
     "execution_count": 189,
     "metadata": {},
     "output_type": "execute_result"
    }
   ],
   "source": [
    "import java.util.Arrays;  \n",
    "import java.util.List;  \n",
    "import java.util.stream.Collectors;\n",
    "\n",
    "Integer[] num = {1,2,3,4,5};\n",
    "\n",
    "// List<Integer> nums = Arrays.asList(5, 10, 15, 20);\n",
    "List<Integer> nums = Arrays.asList(num);\n",
    "IntSummaryStatistics stats = nums.stream().collect(Collectors.summarizingInt(Integer::intValue));\n",
    "stats;"
   ]
  },
  {
   "cell_type": "code",
   "execution_count": 190,
   "metadata": {
    "vscode": {
     "languageId": "java"
    }
   },
   "outputs": [
    {
     "data": {
      "text/plain": [
       "IntSummaryStatistics{count=4, sum=20, min=3, average=5.000000, max=7}"
      ]
     },
     "execution_count": 190,
     "metadata": {},
     "output_type": "execute_result"
    }
   ],
   "source": [
    "import java.util.Arrays;  \n",
    "import java.util.List;  \n",
    "import java.util.stream.Collectors;\n",
    "\n",
    "List<String> names = Arrays.asList(\"Alice\", \"Bob\", \"Charlie\", \"Alice\");        \n",
    "IntSummaryStatistics stats = names.stream().collect(Collectors.summarizingInt(String::length));\n",
    "stats;"
   ]
  },
  {
   "cell_type": "code",
   "execution_count": 191,
   "metadata": {
    "vscode": {
     "languageId": "java"
    }
   },
   "outputs": [
    {
     "data": {
      "text/plain": [
       "DoubleSummaryStatistics{count=5, sum=16.680000, min=1.230000, average=3.336000, max=5.560000}"
      ]
     },
     "execution_count": 191,
     "metadata": {},
     "output_type": "execute_result"
    }
   ],
   "source": [
    "import java.util.Arrays;  \n",
    "import java.util.List;  \n",
    "import java.util.stream.Collectors;\n",
    "\n",
    "Double[] num = {1.23,2.32,3.34,4.23,5.56};\n",
    "\n",
    "List<Double> nums = Arrays.asList(num);\n",
    "DoubleSummaryStatistics stats = nums.stream().collect(Collectors.summarizingDouble(Double::doubleValue));\n",
    "stats;"
   ]
  },
  {
   "cell_type": "code",
   "execution_count": 192,
   "metadata": {
    "vscode": {
     "languageId": "java"
    }
   },
   "outputs": [
    {
     "data": {
      "text/plain": [
       "DoubleSummaryStatistics{count=4, sum=11.580000, min=1.230000, average=2.895000, max=4.560000}"
      ]
     },
     "execution_count": 192,
     "metadata": {},
     "output_type": "execute_result"
    }
   ],
   "source": [
    "import java.util.Arrays;  \n",
    "import java.util.List;  \n",
    "import java.util.stream.Collectors;\n",
    "\n",
    "List<String> numStrings = Arrays.asList(\"1.23\", \"2.34\", \"3.45\", \"4.56\");      \n",
    "DoubleSummaryStatistics stats = numStrings.stream().collect(Collectors.summarizingDouble(Double::parseDouble));\n",
    "stats;"
   ]
  },
  {
   "cell_type": "code",
   "execution_count": 193,
   "metadata": {
    "vscode": {
     "languageId": "java"
    }
   },
   "outputs": [
    {
     "name": "stdout",
     "output_type": "stream",
     "text": [
      "100\n",
      "100\n"
     ]
    }
   ],
   "source": [
    "Integer integerObj = new Integer(100);\n",
    "System.out.println(integerObj);\n",
    "System.out.println(integerObj.intValue());"
   ]
  },
  {
   "cell_type": "code",
   "execution_count": 194,
   "metadata": {
    "vscode": {
     "languageId": "java"
    }
   },
   "outputs": [
    {
     "name": "stdout",
     "output_type": "stream",
     "text": [
      "int from integerObj1: 200\n",
      "Parsed form '150': 150\n",
      "String representation: 200\n",
      "Comparision: 1\n"
     ]
    }
   ],
   "source": [
    "Integer integerObj1 = new Integer(200);\n",
    "Integer integerObj2 = new Integer(100);\n",
    "\n",
    "int primitiveValue = integerObj1.intValue();\n",
    "System.out.println(\"int from integerObj1: \" + primitiveValue);\n",
    "\n",
    "int parsedInt = Integer.parseInt(\"150\");\n",
    "System.out.println(\"Parsed form '150': \" + parsedInt);\n",
    "\n",
    "String stringValue = integerObj1.toString();\n",
    "System.out.println(\"String representation: \" + stringValue);\n",
    "\n",
    "int comparisonResult = integerObj1.compareTo(integerObj2);\n",
    "System.out.println(\"Comparision: \" + comparisonResult);"
   ]
  },
  {
   "cell_type": "code",
   "execution_count": 195,
   "metadata": {
    "vscode": {
     "languageId": "java"
    }
   },
   "outputs": [
    {
     "name": "stdout",
     "output_type": "stream",
     "text": [
      "Concatenated String: Alice..Bob..Charlie..Alice\n"
     ]
    }
   ],
   "source": [
    "List<String> names = Arrays.asList(\"Alice\", \"Bob\", \"Charlie\", \"Alice\");\n",
    "Optional<String> concatenated = names.stream().collect(Collectors.reducing((s1, s2) -> s1 +\"..\" + s2));\n",
    "concatenated.ifPresent(result -> System.out.println(\"Concatenated String: \" + result));"
   ]
  },
  {
   "cell_type": "code",
   "execution_count": 196,
   "metadata": {
    "vscode": {
     "languageId": "java"
    }
   },
   "outputs": [
    {
     "name": "stdout",
     "output_type": "stream",
     "text": [
      "Concatenated String: 15\n"
     ]
    }
   ],
   "source": [
    "List<Integer> nums = Arrays.asList(1,2,3,4,5);\n",
    "Optional<Integer> concatenated = nums.stream().collect(Collectors.reducing((s1, s2) -> s1  + s2));\n",
    "concatenated.ifPresent(result -> System.out.println(\"Concatenated String: \" + result));"
   ]
  },
  {
   "cell_type": "code",
   "execution_count": 197,
   "metadata": {
    "vscode": {
     "languageId": "java"
    }
   },
   "outputs": [
    {
     "data": {
      "text/plain": [
       "AliceBobCharlieAlice"
      ]
     },
     "execution_count": 197,
     "metadata": {},
     "output_type": "execute_result"
    }
   ],
   "source": [
    "List<String> names = Arrays.asList(\"Alice\", \"Bob\", \"Charlie\", \"Alice\");\n",
    "String result = names.stream().collect(Collectors.reducing(\"\", String::concat));\n",
    "result"
   ]
  },
  {
   "cell_type": "code",
   "execution_count": 198,
   "metadata": {
    "vscode": {
     "languageId": "java"
    }
   },
   "outputs": [
    {
     "data": {
      "text/plain": [
       "Faze FLynn 21 1.2 21 21"
      ]
     },
     "execution_count": 198,
     "metadata": {},
     "output_type": "execute_result"
    }
   ],
   "source": [
    "String fname = \"Faze\";\n",
    "String lname = \"FLynn\";\n",
    "int age = 21;\n",
    "double gpa = 1.2;\n",
    "String full_name = fname + \" \" + lname + \" \" + Integer.toString(age) + \" \" + Double.toString(gpa) + \" \" + String.valueOf(age) +\" \" + age;\n",
    "full_name;"
   ]
  },
  {
   "cell_type": "code",
   "execution_count": 199,
   "metadata": {
    "vscode": {
     "languageId": "java"
    }
   },
   "outputs": [
    {
     "name": "stdout",
     "output_type": "stream",
     "text": [
      "Length: 3, Count: 2\n",
      "Length: 5, Count: 2\n",
      "Length: 7, Count: 1\n"
     ]
    }
   ],
   "source": [
    "import java.util.Arrays;\n",
    "import java.util.List;\n",
    "import java.util.Map;\n",
    "import java.util.stream.Collectors;\n",
    "\n",
    "List<String> names = Arrays.asList(\"Alice\", \"Bob\", \"Charlie\", \"David\", \"Eve\");\n",
    "// Grouping by the length of the string and counting occurrences\n",
    "Map<Integer, Long> groupedCount = names.stream()\n",
    "        .collect(Collectors.groupingBy(String::length, Collectors.counting()));\n",
    "groupedCount.forEach((length, count) -> \n",
    "    System.out.println(\"Length: \" + length + \", Count: \" + count));"
   ]
  },
  {
   "cell_type": "code",
   "execution_count": 200,
   "metadata": {
    "vscode": {
     "languageId": "java"
    }
   },
   "outputs": [
    {
     "data": {
      "text/plain": [
       "[5, 3, 7, 5, 3]"
      ]
     },
     "execution_count": 200,
     "metadata": {},
     "output_type": "execute_result"
    }
   ],
   "source": [
    "List<String> names = Arrays.asList(\"Alice\", \"Bob\", \"Charlie\", \"David\", \"Eve\");\n",
    "List<Integer> lengths = names.stream().collect(Collectors.mapping(String::length, Collectors.toList()));\n",
    "lengths;"
   ]
  },
  {
   "cell_type": "code",
   "execution_count": 207,
   "metadata": {
    "vscode": {
     "languageId": "java"
    }
   },
   "outputs": [
    {
     "data": {
      "text/plain": [
       "{2=id, 3=Bob, 4=Even, 5=Alice, 9=Charliesa}"
      ]
     },
     "execution_count": 207,
     "metadata": {},
     "output_type": "execute_result"
    }
   ],
   "source": [
    "import java.util.Arrays;\n",
    "import java.util.List;\n",
    "import java.util.Map;\n",
    "import java.util.function.Function;\n",
    "import java.util.stream.Collectors;\n",
    "\n",
    "List<String> names = Arrays.asList(\"Alice\", \"Bob\", \"Charliesa\", \"id\", \"Even\");\n",
    "// Map<Integer, String> map = names.stream().collect(Collectors.toMap(String::length, Function.identity())); // this will only work when value are not duplicate, keys should be unique\n",
    "Map<Integer, String> map = names.stream().collect(Collectors.toMap(String::length, Function.identity(),      // Value: the string itself\n",
    "(existing, replacement) -> existing // Keep the existing value if there is a duplicate\n",
    "));\n",
    "\n",
    "map;"
   ]
  }
 ],
 "metadata": {
  "kernelspec": {
   "display_name": "Java",
   "language": "java",
   "name": "java"
  },
  "language_info": {
   "codemirror_mode": "java",
   "file_extension": ".jshell",
   "mimetype": "text/x-java-source",
   "name": "Java",
   "pygments_lexer": "java",
   "version": "21.0.1+12-LTS-29"
  }
 },
 "nbformat": 4,
 "nbformat_minor": 2
}

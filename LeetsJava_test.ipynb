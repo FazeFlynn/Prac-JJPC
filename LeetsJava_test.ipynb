{
 "cells": [
  {
   "cell_type": "markdown",
   "metadata": {},
   "source": [
    "#### `Self Test`:"
   ]
  },
  {
   "cell_type": "code",
   "execution_count": 16,
   "metadata": {},
   "outputs": [
    {
     "name": "stdout",
     "output_type": "stream",
     "text": [
      "{1=Alice, 2=Bob, 3=Chis, 4=David, 5=Eugine, 6=Eugines}\n",
      "[1, 2, 3, 4, 5, 6]\n",
      "[Alice, Bob, Chis, David, Eugine, Eugines]\n",
      "Random Ele from List : 4\n",
      "Random Value from Map : Chis\n"
     ]
    }
   ],
   "source": [
    "import java.util.Random;\n",
    "import java.util.List;\n",
    "import java.util.ArrayList;\n",
    "import java.util.HashMap;\n",
    "\n",
    "Map<Integer,String> myMap = new HashMap<>();\n",
    "myMap.put(1, \"Alice\");\n",
    "myMap.put(2, \"Bob\");\n",
    "myMap.put(3, \"Chis\");\n",
    "myMap.put(4, \"David\");\n",
    "myMap.put(5, \"Eugine\");\n",
    "myMap.put(6, \"Eugines\");\n",
    "\n",
    "System.out.println(myMap);\n",
    "\n",
    "List<Integer> myList = new ArrayList<>(myMap.keySet());\n",
    "List<String> myList2 = new ArrayList<>(myMap.values());\n",
    "\n",
    "System.out.println(myList);\n",
    "System.out.println(myList2);\n",
    "\n",
    "Random rand = new Random();\n",
    "System.out.println(\"Random Ele from List : \" + myList.get(rand.nextInt(myList.size())));\n",
    "System.out.println(\"Random Value from Map : \" + myMap.get(myList.get(rand.nextInt(myList.size()))));\n",
    "\n"
   ]
  },
  {
   "cell_type": "markdown",
   "metadata": {},
   "source": [
    "- #### `Implement the RandomizedSet class`:\n",
    "\n",
    "    - **RandomizedSet()** Initializes the RandomizedSet object.\n",
    "    - **bool insert(int val)** Inserts an item val into the set if not present. Returns true if the item was not present, false otherwise.\n",
    "    - **bool remove(int val)** Removes an item val from the set if present. Returns true if the item was present, false otherwise.\n",
    "    - **int getRandom()** Returns a random element from the current set of elements (it's guaranteed that at least one element exists when this method is called). Each element must have the same probability of being returned."
   ]
  },
  {
   "cell_type": "code",
   "execution_count": 17,
   "metadata": {},
   "outputs": [
    {
     "name": "stdout",
     "output_type": "stream",
     "text": [
      "List: [1, 2, 3, 4, 5]\n",
      "Map: {1=0, 2=1, 3=2, 4=3, 5=4}\n",
      "\n",
      "List: [5, 2, 3]\n",
      "Map: {2=1, 3=2, 5=0}\n",
      "\n",
      "List: [5, 2, 3, 1]\n",
      "Map: {1=3, 2=1, 3=2, 5=0}\n"
     ]
    }
   ],
   "source": [
    "import java.util.Map;\n",
    "import java.util.HashMap;\n",
    "import java.util.List;\n",
    "import java.util.ArrayList;\n",
    "import java.util.Random;\n",
    "\n",
    "Map<Integer, Integer> myMap = new HashMap<>();\n",
    "List<Integer> myList = new ArrayList<>();\n",
    "Random rand = new Random();\n",
    "\n",
    "boolean insert(int val){\n",
    "    if(myMap.containsKey(val)){\n",
    "        return false;\n",
    "    }\n",
    "\n",
    "    myMap.put(val, myList.size());\n",
    "    myList.add(val);\n",
    "    return true;\n",
    "}\n",
    "\n",
    "// [1,2,3,4,5]\n",
    "\n",
    "// {\n",
    "//    1,0\n",
    "//    2,1\n",
    "//    3,2\n",
    "//    4,3\n",
    "//    5,4\n",
    "// }\n",
    "\n",
    "// let's say i want to remove value (key) 1 from the map;\n",
    "\n",
    "boolean remove(int val){\n",
    "    if(!myMap.containsKey(val)){\n",
    "        return false;\n",
    "    }\n",
    "\n",
    "    int lastEle = myList.get(myList.size() - 1); // 5 in this case\n",
    "    int index = myMap.get(val); // 0 in this case\n",
    "\n",
    "    myList.set(index, lastEle); // 0, 5 in this case\n",
    "    myMap.put(lastEle,index); // 5, 0 in this case\n",
    "\n",
    "    myList.remove(myList.size() - 1);\n",
    "    myMap.remove(val);    \n",
    "    \n",
    "    return true;\n",
    "}\n",
    "\n",
    "int getRandom(){\n",
    "    return mylist.get(rand.nextInt(myList.size()));    \n",
    "}\n",
    "\n",
    "insert(1);\n",
    "insert(2);\n",
    "insert(3);\n",
    "insert(4);\n",
    "insert(5);\n",
    "\n",
    "System.out.println(\"List: \" + myList);\n",
    "System.out.println(\"Map: \" + myMap);\n",
    "\n",
    "remove(1);\n",
    "remove(4);\n",
    "System.out.println();\n",
    "\n",
    "System.out.println(\"List: \" + myList);\n",
    "System.out.println(\"Map: \" + myMap);\n",
    "\n",
    "insert(1);\n",
    "System.out.println();\n",
    "\n",
    "System.out.println(\"List: \" + myList);\n",
    "System.out.println(\"Map: \" + myMap);\n"
   ]
  },
  {
   "cell_type": "markdown",
   "metadata": {},
   "source": [
    "- #### `Given an integer array nums, return an array answer such that answer[i] is equal to the product of all the elements of nums except nums[i].`\n",
    "    - The product of any prefix or suffix of nums is guaranteed to fit in a 32-bit integer.\n",
    "    - You must write an algorithm that runs in O(n) time and without using the division operation.\n",
    "\n",
    "  `Ex1`:\n",
    "    ```plaintext\n",
    "    Input: nums = [1,2,3,4]\n",
    "    Output: [24,12,8,6]\n",
    "    ```\n",
    "  `Ex2`:\n",
    "    ```plaintext\n",
    "    Input: nums = [-1,1,0,-3,3]\n",
    "    Output: [0,0,9,0,0]\n",
    "    ```"
   ]
  },
  {
   "cell_type": "code",
   "execution_count": 18,
   "metadata": {},
   "outputs": [
    {
     "data": {
      "text/plain": [
       "[24, 12, 8, 6]"
      ]
     },
     "execution_count": 18,
     "metadata": {},
     "output_type": "execute_result"
    }
   ],
   "source": [
    "int[] nums = {1,2,3,4};\n",
    "// int[] nums = {-1,1,0,-3,3};\n",
    "\n",
    "int[] answer = new int[nums.length];\n",
    "\n",
    "int[] Products(int[] nums){\n",
    "\n",
    "    int leftProduct = 1;\n",
    "    int rightProduct = 1;\n",
    "\n",
    "    for(int i = 0; i < nums.length; i++) {\n",
    "        answer[i] = leftProduct;\n",
    "        leftProduct *= nums[i];\n",
    "    }\n",
    "\n",
    "    for(int i = nums.length - 1; i >= 0; i--) {\n",
    "        answer[i] *= rightProduct;\n",
    "        rightProduct *= nums[i];\n",
    "    }\n",
    "    \n",
    "    return answer;\n",
    "}\n",
    "\n",
    "Products(nums);\n",
    "\n",
    "Arrays.toString(answer);"
   ]
  },
  {
   "cell_type": "markdown",
   "metadata": {},
   "source": [
    "- `You are given a list of intervals where each interval is represented as [start, end]. Write a method that finds the maximum number of non-overlapping intervals that can be attended.`"
   ]
  },
  {
   "cell_type": "code",
   "execution_count": null,
   "metadata": {},
   "outputs": [
    {
     "data": {
      "text/plain": [
       "3"
      ]
     },
     "execution_count": 25,
     "metadata": {},
     "output_type": "execute_result"
    }
   ],
   "source": [
    "public static int maxNonOverlappingIntervals(int[][] intervals) {\n",
    "    if (intervals == null || intervals.length == 0) {\n",
    "        return 0;\n",
    "    }\n",
    "\n",
    "    // Sort intervals by their end times\n",
    "    java.util.Arrays.sort(intervals, (a, b) -> Integer.compare(a[1], b[1]));\n",
    "\n",
    "    int count = 0;\n",
    "    int lastEnd = Integer.MIN_VALUE;\n",
    "\n",
    "    for (int[] interval : intervals) {\n",
    "        if (interval[0] >= lastEnd) {\n",
    "            count++;\n",
    "            lastEnd = interval[1];\n",
    "        }\n",
    "    }\n",
    "\n",
    "    return count;\n",
    "}\n",
    "\n",
    "int[][] interval = {{1,2},{6,8},{4,7},{3,6},{5,7}};\n",
    "maxNonOverlappingIntervals(interval);"
   ]
  },
  {
   "cell_type": "markdown",
   "metadata": {},
   "source": [
    "Q.2: You are given an array of integers. For each element in the array, find the next greater element to the right. If no such element exists, output -1 for that elements."
   ]
  },
  {
   "cell_type": "code",
   "execution_count": 47,
   "metadata": {},
   "outputs": [
    {
     "name": "stdout",
     "output_type": "stream",
     "text": [
      "Result: [0, 0, 0, 0, -1]\n",
      "[8]\n",
      "\n",
      "Result: [0, 0, 0, -1, -1]\n",
      "[10]\n",
      "\n",
      "Result: [0, 0, 10, -1, -1]\n",
      "[10, 2]\n",
      "\n",
      "Result: [0, 10, 10, -1, -1]\n",
      "[10, 5]\n",
      "\n",
      "Result: [5, 10, 10, -1, -1]\n",
      "[10, 5, 4]\n",
      "\n",
      "\n",
      "[5, 10, 10, -1, -1]\n"
     ]
    },
    {
     "data": {
      "text/plain": [
       "[I@42f18170"
      ]
     },
     "execution_count": 47,
     "metadata": {},
     "output_type": "execute_result"
    }
   ],
   "source": [
    "int[] nextGreaterElement(int[] nums) {\n",
    "    int[] result = new int[nums.length];\n",
    "    java.util.Stack<Integer> stack = new java.util.Stack<>();\n",
    "\n",
    "    // System.out.println(stack);\n",
    "\n",
    "    for (int i = nums.length - 1; i >= 0; i--) {\n",
    "        while (!stack.isEmpty() && stack.peek() <= nums[i]) {\n",
    "            stack.pop();\n",
    "        }\n",
    "\n",
    "        result[i] = stack.isEmpty() ? -1 : stack.peek();\n",
    "        stack.push(nums[i]);\n",
    "\n",
    "        System.out.println(\"Result: \" + Arrays.toString(result));        \n",
    "        System.out.println(stack);\n",
    "        System.out.println();\n",
    "    }\n",
    "\n",
    "    System.out.println();\n",
    "    System.out.println(Arrays.toString(result));\n",
    "\n",
    "    return result;\n",
    "}\n",
    "\n",
    "int[] arr = {4, 5, 2, 10, 8};\n",
    "nextGreaterElement(arr);"
   ]
  },
  {
   "cell_type": "code",
   "execution_count": 45,
   "metadata": {},
   "outputs": [
    {
     "data": {
      "text/plain": [
       "[5, 10, 10, -1, -1]"
      ]
     },
     "execution_count": 45,
     "metadata": {},
     "output_type": "execute_result"
    }
   ],
   "source": [
    "int[] nextGreaterElement(int[] nums) {\n",
    "    int[] result = new int[nums.length];\n",
    "    int index= 0;\n",
    "    boolean found;\n",
    "\n",
    "    for(int i = 0; i < nums.length - 1; i++) {\n",
    "        found = false;\n",
    "        for(int j = i+1; j < nums.length; j++) {\n",
    "            if(nums[j] > nums[i]){\n",
    "                result[index++] = nums[j];\n",
    "                found = true;\n",
    "                break;\n",
    "            }            \n",
    "        }\n",
    "\n",
    "        if(!found){\n",
    "            result[index++] = -1;\n",
    "        }        \n",
    "    }\n",
    "\n",
    "    while(index < nums.length){\n",
    "        result[index++] = -1;\n",
    "    }\n",
    "\n",
    "    return result;\n",
    "}\n",
    "\n",
    "int[] arr = {4, 5, 2, 10, 8};\n",
    "Arrays.toString(nextGreaterElement(arr));"
   ]
  },
  {
   "cell_type": "markdown",
   "metadata": {},
   "source": [
    "### `Whenever you want to compare 1 element to an Array to the rest, then you must use stack for that to optimize it`\n",
    "- `Just reverse the logic that you were using and adjust it according to the working of stacks`"
   ]
  },
  {
   "cell_type": "code",
   "execution_count": 51,
   "metadata": {},
   "outputs": [
    {
     "data": {
      "text/plain": [
       "[5, 10, 10, -1, -1]"
      ]
     },
     "execution_count": 51,
     "metadata": {},
     "output_type": "execute_result"
    }
   ],
   "source": [
    "import java.util.Stack;\n",
    "int[] nextGreaterElement(int[] nums){\n",
    "\n",
    "    int[] result = new int[nums.length];\n",
    "    Stack<Integer> stack = new Stack<>();\n",
    "\n",
    "    for(int i = nums.length - 1; i >= 0; i--) {\n",
    "        while(!stack.isEmpty() && stack.peek() <= nums[i]){\n",
    "            stack.pop();\n",
    "        }\n",
    "\n",
    "        result[i] = stack.isEmpty() ? -1 : stack.peek();\n",
    "        stack.push(nums[i]);        \n",
    "    }\n",
    "    return result;\n",
    "}\n",
    "\n",
    "int[] arr = {4, 5, 2, 10, 8};\n",
    "Arrays.toString(nextGreaterElement(arr));"
   ]
  }
 ],
 "metadata": {
  "kernelspec": {
   "display_name": "Java",
   "language": "java",
   "name": "java"
  },
  "language_info": {
   "codemirror_mode": "java",
   "file_extension": ".jshell",
   "mimetype": "text/x-java-source",
   "name": "java",
   "pygments_lexer": "java",
   "version": "21.0.1+12-LTS-29"
  }
 },
 "nbformat": 4,
 "nbformat_minor": 2
}

{
 "cells": [
  {
   "cell_type": "markdown",
   "metadata": {},
   "source": [
    "#### `Self Test`:"
   ]
  },
  {
   "cell_type": "code",
   "execution_count": 49,
   "metadata": {
    "vscode": {
     "languageId": "java"
    }
   },
   "outputs": [
    {
     "name": "stdout",
     "output_type": "stream",
     "text": [
      "{1=Alice, 2=Bob, 3=Chis, 4=David, 5=Eugine, 6=Eugines}\n",
      "[1, 2, 3, 4, 5, 6]\n",
      "[Alice, Bob, Chis, David, Eugine, Eugines]\n",
      "Random Ele from List : 2\n",
      "Random Value from Map : Eugine\n"
     ]
    }
   ],
   "source": [
    "import java.util.Random;\n",
    "import java.util.List;\n",
    "import java.util.ArrayList;\n",
    "import java.util.HashMap;\n",
    "\n",
    "Map<Integer,String> myMap = new HashMap<>();\n",
    "myMap.put(1, \"Alice\");\n",
    "myMap.put(2, \"Bob\");\n",
    "myMap.put(3, \"Chis\");\n",
    "myMap.put(4, \"David\");\n",
    "myMap.put(5, \"Eugine\");\n",
    "myMap.put(6, \"Eugines\");\n",
    "\n",
    "System.out.println(myMap);\n",
    "\n",
    "List<Integer> myList = new ArrayList<>(myMap.keySet());\n",
    "List<String> myList2 = new ArrayList<>(myMap.values());\n",
    "\n",
    "System.out.println(myList);\n",
    "System.out.println(myList2);\n",
    "\n",
    "Random rand = new Random();\n",
    "System.out.println(\"Random Ele from List : \" + myList.get(rand.nextInt(myList.size())));\n",
    "System.out.println(\"Random Value from Map : \" + myMap.get(myList.get(rand.nextInt(myList.size()))));\n",
    "\n"
   ]
  },
  {
   "cell_type": "markdown",
   "metadata": {},
   "source": [
    "- #### `Implement the RandomizedSet class`:\n",
    "\n",
    "    - **RandomizedSet()** Initializes the RandomizedSet object.\n",
    "    - **bool insert(int val)** Inserts an item val into the set if not present. Returns true if the item was not present, false otherwise.\n",
    "    - **bool remove(int val)** Removes an item val from the set if present. Returns true if the item was present, false otherwise.\n",
    "    - **int getRandom()** Returns a random element from the current set of elements (it's guaranteed that at least one element exists when this method is called). Each element must have the same probability of being returned."
   ]
  },
  {
   "cell_type": "code",
   "execution_count": null,
   "metadata": {
    "vscode": {
     "languageId": "java"
    }
   },
   "outputs": [],
   "source": []
  }
 ],
 "metadata": {
  "kernelspec": {
   "display_name": "Java",
   "language": "java",
   "name": "java"
  },
  "language_info": {
   "codemirror_mode": "java",
   "file_extension": ".jshell",
   "mimetype": "text/x-java-source",
   "name": "Java",
   "pygments_lexer": "java",
   "version": "21.0.1+12-LTS-29"
  }
 },
 "nbformat": 4,
 "nbformat_minor": 2
}
